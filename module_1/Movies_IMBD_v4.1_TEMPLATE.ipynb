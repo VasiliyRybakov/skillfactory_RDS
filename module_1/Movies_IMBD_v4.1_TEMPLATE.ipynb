{
 "cells": [
  {
   "cell_type": "code",
   "execution_count": 1,
   "metadata": {
    "_cell_guid": "b1076dfc-b9ad-4769-8c92-a6c4dae69d19",
    "_uuid": "8f2839f25d086af736a60e9eeb907d3b93b6e0e5",
    "colab": {},
    "colab_type": "code",
    "id": "U2D2gTdJVp90"
   },
   "outputs": [],
   "source": [
    "import numpy as np\n",
    "import pandas as pd\n",
    "import seaborn as sns\n",
    "import matplotlib.pyplot as plt\n",
    "from collections import Counter\n",
    "import itertools"
   ]
  },
  {
   "cell_type": "code",
   "execution_count": 2,
   "metadata": {
    "_cell_guid": "79c7e3d0-c299-4dcb-8224-4455121ee9b0",
    "_uuid": "d629ff2d2480ee46fbb7e2d37f6b5fab8052498a",
    "colab": {},
    "colab_type": "code",
    "id": "oyGfxL3eVp9-"
   },
   "outputs": [
    {
     "data": {
      "text/html": [
       "<div>\n",
       "<style scoped>\n",
       "    .dataframe tbody tr th:only-of-type {\n",
       "        vertical-align: middle;\n",
       "    }\n",
       "\n",
       "    .dataframe tbody tr th {\n",
       "        vertical-align: top;\n",
       "    }\n",
       "\n",
       "    .dataframe thead th {\n",
       "        text-align: right;\n",
       "    }\n",
       "</style>\n",
       "<table border=\"1\" class=\"dataframe\">\n",
       "  <thead>\n",
       "    <tr style=\"text-align: right;\">\n",
       "      <th></th>\n",
       "      <th>imdb_id</th>\n",
       "      <th>budget</th>\n",
       "      <th>revenue</th>\n",
       "      <th>original_title</th>\n",
       "      <th>cast</th>\n",
       "      <th>director</th>\n",
       "      <th>tagline</th>\n",
       "      <th>overview</th>\n",
       "      <th>runtime</th>\n",
       "      <th>genres</th>\n",
       "      <th>production_companies</th>\n",
       "      <th>release_date</th>\n",
       "      <th>vote_average</th>\n",
       "      <th>release_year</th>\n",
       "    </tr>\n",
       "  </thead>\n",
       "  <tbody>\n",
       "    <tr>\n",
       "      <th>63</th>\n",
       "      <td>tt3569230</td>\n",
       "      <td>25000000</td>\n",
       "      <td>42972994</td>\n",
       "      <td>Legend</td>\n",
       "      <td>Tom Hardy|Emily Browning|Christopher Eccleston...</td>\n",
       "      <td>Brian Helgeland</td>\n",
       "      <td>Love, fight, live, rule like a legend.</td>\n",
       "      <td>Suave, charming and volatile, Reggie Kray and ...</td>\n",
       "      <td>131</td>\n",
       "      <td>Crime|Thriller</td>\n",
       "      <td>Working Title Films|Cross Creek Pictures|Anton...</td>\n",
       "      <td>9/9/2015</td>\n",
       "      <td>6.7</td>\n",
       "      <td>2015</td>\n",
       "    </tr>\n",
       "  </tbody>\n",
       "</table>\n",
       "</div>"
      ],
      "text/plain": [
       "      imdb_id    budget   revenue original_title  \\\n",
       "63  tt3569230  25000000  42972994         Legend   \n",
       "\n",
       "                                                 cast         director  \\\n",
       "63  Tom Hardy|Emily Browning|Christopher Eccleston...  Brian Helgeland   \n",
       "\n",
       "                                   tagline  \\\n",
       "63  Love, fight, live, rule like a legend.   \n",
       "\n",
       "                                             overview  runtime  \\\n",
       "63  Suave, charming and volatile, Reggie Kray and ...      131   \n",
       "\n",
       "            genres                               production_companies  \\\n",
       "63  Crime|Thriller  Working Title Films|Cross Creek Pictures|Anton...   \n",
       "\n",
       "   release_date  vote_average  release_year  \n",
       "63     9/9/2015           6.7          2015  "
      ]
     },
     "execution_count": 2,
     "metadata": {},
     "output_type": "execute_result"
    }
   ],
   "source": [
    "data = pd.read_csv('movie_bd_v5.csv')\n",
    "data.sample(1)"
   ]
  },
  {
   "cell_type": "code",
   "execution_count": 3,
   "metadata": {
    "colab": {},
    "colab_type": "code",
    "id": "CoYUnagMVp-C"
   },
   "outputs": [
    {
     "data": {
      "text/html": [
       "<div>\n",
       "<style scoped>\n",
       "    .dataframe tbody tr th:only-of-type {\n",
       "        vertical-align: middle;\n",
       "    }\n",
       "\n",
       "    .dataframe tbody tr th {\n",
       "        vertical-align: top;\n",
       "    }\n",
       "\n",
       "    .dataframe thead th {\n",
       "        text-align: right;\n",
       "    }\n",
       "</style>\n",
       "<table border=\"1\" class=\"dataframe\">\n",
       "  <thead>\n",
       "    <tr style=\"text-align: right;\">\n",
       "      <th></th>\n",
       "      <th>budget</th>\n",
       "      <th>revenue</th>\n",
       "      <th>runtime</th>\n",
       "      <th>vote_average</th>\n",
       "      <th>release_year</th>\n",
       "    </tr>\n",
       "  </thead>\n",
       "  <tbody>\n",
       "    <tr>\n",
       "      <th>count</th>\n",
       "      <td>1.889000e+03</td>\n",
       "      <td>1.889000e+03</td>\n",
       "      <td>1889.000000</td>\n",
       "      <td>1889.000000</td>\n",
       "      <td>1889.000000</td>\n",
       "    </tr>\n",
       "    <tr>\n",
       "      <th>mean</th>\n",
       "      <td>5.431083e+07</td>\n",
       "      <td>1.553653e+08</td>\n",
       "      <td>109.658549</td>\n",
       "      <td>6.140762</td>\n",
       "      <td>2007.860773</td>\n",
       "    </tr>\n",
       "    <tr>\n",
       "      <th>std</th>\n",
       "      <td>4.858721e+07</td>\n",
       "      <td>2.146698e+08</td>\n",
       "      <td>18.017041</td>\n",
       "      <td>0.764763</td>\n",
       "      <td>4.468841</td>\n",
       "    </tr>\n",
       "    <tr>\n",
       "      <th>min</th>\n",
       "      <td>5.000000e+06</td>\n",
       "      <td>2.033165e+06</td>\n",
       "      <td>63.000000</td>\n",
       "      <td>3.300000</td>\n",
       "      <td>2000.000000</td>\n",
       "    </tr>\n",
       "    <tr>\n",
       "      <th>25%</th>\n",
       "      <td>2.000000e+07</td>\n",
       "      <td>3.456058e+07</td>\n",
       "      <td>97.000000</td>\n",
       "      <td>5.600000</td>\n",
       "      <td>2004.000000</td>\n",
       "    </tr>\n",
       "    <tr>\n",
       "      <th>50%</th>\n",
       "      <td>3.800000e+07</td>\n",
       "      <td>8.361541e+07</td>\n",
       "      <td>107.000000</td>\n",
       "      <td>6.100000</td>\n",
       "      <td>2008.000000</td>\n",
       "    </tr>\n",
       "    <tr>\n",
       "      <th>75%</th>\n",
       "      <td>7.200000e+07</td>\n",
       "      <td>1.782626e+08</td>\n",
       "      <td>120.000000</td>\n",
       "      <td>6.600000</td>\n",
       "      <td>2012.000000</td>\n",
       "    </tr>\n",
       "    <tr>\n",
       "      <th>max</th>\n",
       "      <td>3.800000e+08</td>\n",
       "      <td>2.781506e+09</td>\n",
       "      <td>214.000000</td>\n",
       "      <td>8.100000</td>\n",
       "      <td>2015.000000</td>\n",
       "    </tr>\n",
       "  </tbody>\n",
       "</table>\n",
       "</div>"
      ],
      "text/plain": [
       "             budget       revenue      runtime  vote_average  release_year\n",
       "count  1.889000e+03  1.889000e+03  1889.000000   1889.000000   1889.000000\n",
       "mean   5.431083e+07  1.553653e+08   109.658549      6.140762   2007.860773\n",
       "std    4.858721e+07  2.146698e+08    18.017041      0.764763      4.468841\n",
       "min    5.000000e+06  2.033165e+06    63.000000      3.300000   2000.000000\n",
       "25%    2.000000e+07  3.456058e+07    97.000000      5.600000   2004.000000\n",
       "50%    3.800000e+07  8.361541e+07   107.000000      6.100000   2008.000000\n",
       "75%    7.200000e+07  1.782626e+08   120.000000      6.600000   2012.000000\n",
       "max    3.800000e+08  2.781506e+09   214.000000      8.100000   2015.000000"
      ]
     },
     "execution_count": 3,
     "metadata": {},
     "output_type": "execute_result"
    }
   ],
   "source": [
    "data.describe()"
   ]
  },
  {
   "cell_type": "markdown",
   "metadata": {
    "colab_type": "text",
    "id": "DTIt7ezGVp-G"
   },
   "source": [
    "# Предобработка"
   ]
  },
  {
   "cell_type": "code",
   "execution_count": 4,
   "metadata": {
    "colab": {},
    "colab_type": "code",
    "id": "jNb40DwKVp-H"
   },
   "outputs": [],
   "source": [
    "answers = {}\n",
    "data ['profit'] = data['revenue']-data['budget']"
   ]
  },
  {
   "cell_type": "markdown",
   "metadata": {
    "colab_type": "text",
    "id": "YxZaH-nPVp-L"
   },
   "source": [
    "# 1. У какого фильма из списка самый большой бюджет?"
   ]
  },
  {
   "cell_type": "code",
   "execution_count": 5,
   "metadata": {},
   "outputs": [],
   "source": [
    "answers['1'] = '723. Pirates of the Caribbean: On Stranger Tides (tt1298650)'"
   ]
  },
  {
   "cell_type": "code",
   "execution_count": 6,
   "metadata": {},
   "outputs": [
    {
     "data": {
      "text/html": [
       "<div>\n",
       "<style scoped>\n",
       "    .dataframe tbody tr th:only-of-type {\n",
       "        vertical-align: middle;\n",
       "    }\n",
       "\n",
       "    .dataframe tbody tr th {\n",
       "        vertical-align: top;\n",
       "    }\n",
       "\n",
       "    .dataframe thead th {\n",
       "        text-align: right;\n",
       "    }\n",
       "</style>\n",
       "<table border=\"1\" class=\"dataframe\">\n",
       "  <thead>\n",
       "    <tr style=\"text-align: right;\">\n",
       "      <th></th>\n",
       "      <th>imdb_id</th>\n",
       "      <th>budget</th>\n",
       "      <th>revenue</th>\n",
       "      <th>original_title</th>\n",
       "      <th>cast</th>\n",
       "      <th>director</th>\n",
       "      <th>tagline</th>\n",
       "      <th>overview</th>\n",
       "      <th>runtime</th>\n",
       "      <th>genres</th>\n",
       "      <th>production_companies</th>\n",
       "      <th>release_date</th>\n",
       "      <th>vote_average</th>\n",
       "      <th>release_year</th>\n",
       "      <th>profit</th>\n",
       "    </tr>\n",
       "  </thead>\n",
       "  <tbody>\n",
       "    <tr>\n",
       "      <th>723</th>\n",
       "      <td>tt1298650</td>\n",
       "      <td>380000000</td>\n",
       "      <td>1021683000</td>\n",
       "      <td>Pirates of the Caribbean: On Stranger Tides</td>\n",
       "      <td>Johnny Depp|PenÃ©lope Cruz|Geoffrey Rush|Ian M...</td>\n",
       "      <td>Rob Marshall</td>\n",
       "      <td>Live Forever Or Die Trying.</td>\n",
       "      <td>Captain Jack Sparrow crosses paths with a woma...</td>\n",
       "      <td>136</td>\n",
       "      <td>Adventure|Action|Fantasy</td>\n",
       "      <td>Walt Disney Pictures|Jerry Bruckheimer Films|M...</td>\n",
       "      <td>5/11/2011</td>\n",
       "      <td>6.3</td>\n",
       "      <td>2011</td>\n",
       "      <td>641683000</td>\n",
       "    </tr>\n",
       "  </tbody>\n",
       "</table>\n",
       "</div>"
      ],
      "text/plain": [
       "       imdb_id     budget     revenue  \\\n",
       "723  tt1298650  380000000  1021683000   \n",
       "\n",
       "                                  original_title  \\\n",
       "723  Pirates of the Caribbean: On Stranger Tides   \n",
       "\n",
       "                                                  cast      director  \\\n",
       "723  Johnny Depp|PenÃ©lope Cruz|Geoffrey Rush|Ian M...  Rob Marshall   \n",
       "\n",
       "                         tagline  \\\n",
       "723  Live Forever Or Die Trying.   \n",
       "\n",
       "                                              overview  runtime  \\\n",
       "723  Captain Jack Sparrow crosses paths with a woma...      136   \n",
       "\n",
       "                       genres  \\\n",
       "723  Adventure|Action|Fantasy   \n",
       "\n",
       "                                  production_companies release_date  \\\n",
       "723  Walt Disney Pictures|Jerry Bruckheimer Films|M...    5/11/2011   \n",
       "\n",
       "     vote_average  release_year     profit  \n",
       "723           6.3          2011  641683000  "
      ]
     },
     "execution_count": 6,
     "metadata": {},
     "output_type": "execute_result"
    }
   ],
   "source": [
    "data[data.budget == data.budget.max()]"
   ]
  },
  {
   "cell_type": "markdown",
   "metadata": {
    "colab_type": "text",
    "id": "FNRbbI3vVp-c"
   },
   "source": [
    "# 2. Какой из фильмов самый длительный (в минутах)?"
   ]
  },
  {
   "cell_type": "code",
   "execution_count": 7,
   "metadata": {
    "colab": {},
    "colab_type": "code",
    "id": "ot-VX2XrVp-g"
   },
   "outputs": [],
   "source": [
    "answers['2'] = '1157. Gods and Generals (tt0279111)'"
   ]
  },
  {
   "cell_type": "code",
   "execution_count": 8,
   "metadata": {},
   "outputs": [
    {
     "data": {
      "text/html": [
       "<div>\n",
       "<style scoped>\n",
       "    .dataframe tbody tr th:only-of-type {\n",
       "        vertical-align: middle;\n",
       "    }\n",
       "\n",
       "    .dataframe tbody tr th {\n",
       "        vertical-align: top;\n",
       "    }\n",
       "\n",
       "    .dataframe thead th {\n",
       "        text-align: right;\n",
       "    }\n",
       "</style>\n",
       "<table border=\"1\" class=\"dataframe\">\n",
       "  <thead>\n",
       "    <tr style=\"text-align: right;\">\n",
       "      <th></th>\n",
       "      <th>imdb_id</th>\n",
       "      <th>budget</th>\n",
       "      <th>revenue</th>\n",
       "      <th>original_title</th>\n",
       "      <th>cast</th>\n",
       "      <th>director</th>\n",
       "      <th>tagline</th>\n",
       "      <th>overview</th>\n",
       "      <th>runtime</th>\n",
       "      <th>genres</th>\n",
       "      <th>production_companies</th>\n",
       "      <th>release_date</th>\n",
       "      <th>vote_average</th>\n",
       "      <th>release_year</th>\n",
       "      <th>profit</th>\n",
       "    </tr>\n",
       "  </thead>\n",
       "  <tbody>\n",
       "    <tr>\n",
       "      <th>1157</th>\n",
       "      <td>tt0279111</td>\n",
       "      <td>56000000</td>\n",
       "      <td>12923936</td>\n",
       "      <td>Gods and Generals</td>\n",
       "      <td>Stephen Lang|Jeff Daniels|Robert Duvall|Kevin ...</td>\n",
       "      <td>Ronald F. Maxwell</td>\n",
       "      <td>The nations heart was touched by...</td>\n",
       "      <td>The film centers mostly around the personal an...</td>\n",
       "      <td>214</td>\n",
       "      <td>Drama|History|War</td>\n",
       "      <td>Turner Pictures|Antietam Filmworks</td>\n",
       "      <td>2/21/2003</td>\n",
       "      <td>5.8</td>\n",
       "      <td>2003</td>\n",
       "      <td>-43076064</td>\n",
       "    </tr>\n",
       "  </tbody>\n",
       "</table>\n",
       "</div>"
      ],
      "text/plain": [
       "        imdb_id    budget   revenue     original_title  \\\n",
       "1157  tt0279111  56000000  12923936  Gods and Generals   \n",
       "\n",
       "                                                   cast           director  \\\n",
       "1157  Stephen Lang|Jeff Daniels|Robert Duvall|Kevin ...  Ronald F. Maxwell   \n",
       "\n",
       "                                  tagline  \\\n",
       "1157  The nations heart was touched by...   \n",
       "\n",
       "                                               overview  runtime  \\\n",
       "1157  The film centers mostly around the personal an...      214   \n",
       "\n",
       "                 genres                production_companies release_date  \\\n",
       "1157  Drama|History|War  Turner Pictures|Antietam Filmworks    2/21/2003   \n",
       "\n",
       "      vote_average  release_year    profit  \n",
       "1157           5.8          2003 -43076064  "
      ]
     },
     "execution_count": 8,
     "metadata": {},
     "output_type": "execute_result"
    }
   ],
   "source": [
    "data[data.runtime == data.runtime.max()]"
   ]
  },
  {
   "cell_type": "markdown",
   "metadata": {
    "colab_type": "text",
    "id": "bapLlpW8Vp-k"
   },
   "source": [
    "# 3. Какой из фильмов самый короткий (в минутах)?\n",
    "\n",
    "\n",
    "\n"
   ]
  },
  {
   "cell_type": "code",
   "execution_count": 9,
   "metadata": {
    "colab": {},
    "colab_type": "code",
    "id": "YBxaSHuAVp-l"
   },
   "outputs": [],
   "source": [
    "answers['3'] = '768. Winnie the Pooh (tt1449283)'"
   ]
  },
  {
   "cell_type": "code",
   "execution_count": 10,
   "metadata": {},
   "outputs": [
    {
     "data": {
      "text/html": [
       "<div>\n",
       "<style scoped>\n",
       "    .dataframe tbody tr th:only-of-type {\n",
       "        vertical-align: middle;\n",
       "    }\n",
       "\n",
       "    .dataframe tbody tr th {\n",
       "        vertical-align: top;\n",
       "    }\n",
       "\n",
       "    .dataframe thead th {\n",
       "        text-align: right;\n",
       "    }\n",
       "</style>\n",
       "<table border=\"1\" class=\"dataframe\">\n",
       "  <thead>\n",
       "    <tr style=\"text-align: right;\">\n",
       "      <th></th>\n",
       "      <th>imdb_id</th>\n",
       "      <th>budget</th>\n",
       "      <th>revenue</th>\n",
       "      <th>original_title</th>\n",
       "      <th>cast</th>\n",
       "      <th>director</th>\n",
       "      <th>tagline</th>\n",
       "      <th>overview</th>\n",
       "      <th>runtime</th>\n",
       "      <th>genres</th>\n",
       "      <th>production_companies</th>\n",
       "      <th>release_date</th>\n",
       "      <th>vote_average</th>\n",
       "      <th>release_year</th>\n",
       "      <th>profit</th>\n",
       "    </tr>\n",
       "  </thead>\n",
       "  <tbody>\n",
       "    <tr>\n",
       "      <th>768</th>\n",
       "      <td>tt1449283</td>\n",
       "      <td>30000000</td>\n",
       "      <td>14460000</td>\n",
       "      <td>Winnie the Pooh</td>\n",
       "      <td>Jim Cummings|Travis Oates|Jim Cummings|Bud Luc...</td>\n",
       "      <td>Stephen Anderson|Don Hall</td>\n",
       "      <td>Oh Pooh.</td>\n",
       "      <td>During an ordinary day in Hundred Acre Wood, W...</td>\n",
       "      <td>63</td>\n",
       "      <td>Animation|Family</td>\n",
       "      <td>Walt Disney Pictures|Walt Disney Animation Stu...</td>\n",
       "      <td>4/13/2011</td>\n",
       "      <td>6.8</td>\n",
       "      <td>2011</td>\n",
       "      <td>-15540000</td>\n",
       "    </tr>\n",
       "  </tbody>\n",
       "</table>\n",
       "</div>"
      ],
      "text/plain": [
       "       imdb_id    budget   revenue   original_title  \\\n",
       "768  tt1449283  30000000  14460000  Winnie the Pooh   \n",
       "\n",
       "                                                  cast  \\\n",
       "768  Jim Cummings|Travis Oates|Jim Cummings|Bud Luc...   \n",
       "\n",
       "                      director   tagline  \\\n",
       "768  Stephen Anderson|Don Hall  Oh Pooh.   \n",
       "\n",
       "                                              overview  runtime  \\\n",
       "768  During an ordinary day in Hundred Acre Wood, W...       63   \n",
       "\n",
       "               genres                               production_companies  \\\n",
       "768  Animation|Family  Walt Disney Pictures|Walt Disney Animation Stu...   \n",
       "\n",
       "    release_date  vote_average  release_year    profit  \n",
       "768    4/13/2011           6.8          2011 -15540000  "
      ]
     },
     "execution_count": 10,
     "metadata": {},
     "output_type": "execute_result"
    }
   ],
   "source": [
    "data[data.runtime == data.runtime.min()]"
   ]
  },
  {
   "cell_type": "markdown",
   "metadata": {
    "colab_type": "text",
    "id": "TfQbxbfNVp-p"
   },
   "source": [
    "# 4. Какова средняя длительность фильмов?\n"
   ]
  },
  {
   "cell_type": "code",
   "execution_count": 11,
   "metadata": {
    "colab": {},
    "colab_type": "code",
    "id": "5K6dKZYVVp-q"
   },
   "outputs": [],
   "source": [
    "answers['4'] = '110'"
   ]
  },
  {
   "cell_type": "code",
   "execution_count": 12,
   "metadata": {},
   "outputs": [
    {
     "data": {
      "text/plain": [
       "109.6585494970884"
      ]
     },
     "execution_count": 12,
     "metadata": {},
     "output_type": "execute_result"
    }
   ],
   "source": [
    "data[\"runtime\"].mean()"
   ]
  },
  {
   "cell_type": "markdown",
   "metadata": {
    "colab_type": "text",
    "id": "r5TvbnT_Vp-u"
   },
   "source": [
    "# 5. Каково медианное значение длительности фильмов? "
   ]
  },
  {
   "cell_type": "code",
   "execution_count": 13,
   "metadata": {
    "colab": {},
    "colab_type": "code",
    "id": "iBROplKnVp-v"
   },
   "outputs": [],
   "source": [
    "answers['5'] = '107'"
   ]
  },
  {
   "cell_type": "code",
   "execution_count": 14,
   "metadata": {
    "scrolled": true
   },
   "outputs": [
    {
     "data": {
      "text/html": [
       "<div>\n",
       "<style scoped>\n",
       "    .dataframe tbody tr th:only-of-type {\n",
       "        vertical-align: middle;\n",
       "    }\n",
       "\n",
       "    .dataframe tbody tr th {\n",
       "        vertical-align: top;\n",
       "    }\n",
       "\n",
       "    .dataframe thead th {\n",
       "        text-align: right;\n",
       "    }\n",
       "</style>\n",
       "<table border=\"1\" class=\"dataframe\">\n",
       "  <thead>\n",
       "    <tr style=\"text-align: right;\">\n",
       "      <th></th>\n",
       "      <th>imdb_id</th>\n",
       "      <th>budget</th>\n",
       "      <th>revenue</th>\n",
       "      <th>original_title</th>\n",
       "      <th>cast</th>\n",
       "      <th>director</th>\n",
       "      <th>tagline</th>\n",
       "      <th>overview</th>\n",
       "      <th>runtime</th>\n",
       "      <th>genres</th>\n",
       "      <th>production_companies</th>\n",
       "      <th>release_date</th>\n",
       "      <th>vote_average</th>\n",
       "      <th>release_year</th>\n",
       "      <th>profit</th>\n",
       "    </tr>\n",
       "  </thead>\n",
       "  <tbody>\n",
       "    <tr>\n",
       "      <th>70</th>\n",
       "      <td>tt2279339</td>\n",
       "      <td>17000000</td>\n",
       "      <td>24000000</td>\n",
       "      <td>Love the Coopers</td>\n",
       "      <td>Steve Martin|Diane Keaton|John Goodman|Alan Ar...</td>\n",
       "      <td>Jessie Nelson</td>\n",
       "      <td>Christmas means comfort, joy and chaos.</td>\n",
       "      <td>When four generations of the Cooper clan come ...</td>\n",
       "      <td>107</td>\n",
       "      <td>Family|Comedy</td>\n",
       "      <td>Imagine Entertainment|Groundswell Productions|...</td>\n",
       "      <td>11/12/2015</td>\n",
       "      <td>5.3</td>\n",
       "      <td>2015</td>\n",
       "      <td>7000000</td>\n",
       "    </tr>\n",
       "    <tr>\n",
       "      <th>210</th>\n",
       "      <td>tt0900387</td>\n",
       "      <td>15000000</td>\n",
       "      <td>9104716</td>\n",
       "      <td>Suite FranÃ§aise</td>\n",
       "      <td>Michelle Williams|Kristin Scott Thomas|Matthia...</td>\n",
       "      <td>Saul Dibb</td>\n",
       "      <td>Based on the Best Selling Novel</td>\n",
       "      <td>France, 1940. In the first days of occupation,...</td>\n",
       "      <td>107</td>\n",
       "      <td>Drama|Romance|War</td>\n",
       "      <td>Qwerty Films|Alliance Films|Canal+|TF1 Droits ...</td>\n",
       "      <td>11/5/2014</td>\n",
       "      <td>6.9</td>\n",
       "      <td>2014</td>\n",
       "      <td>-5895284</td>\n",
       "    </tr>\n",
       "    <tr>\n",
       "      <th>224</th>\n",
       "      <td>tt2771372</td>\n",
       "      <td>6000000</td>\n",
       "      <td>3485127</td>\n",
       "      <td>Veronica Mars</td>\n",
       "      <td>Kristen Bell|Jason Dohring|Enrico Colantoni|Ch...</td>\n",
       "      <td>Rob Thomas</td>\n",
       "      <td>She thought she was out</td>\n",
       "      <td>Years after walking away from her past as a te...</td>\n",
       "      <td>107</td>\n",
       "      <td>Comedy|Drama|Crime</td>\n",
       "      <td>Warner Bros.|Warner Bros. Interactive Entertai...</td>\n",
       "      <td>3/13/2014</td>\n",
       "      <td>6.3</td>\n",
       "      <td>2014</td>\n",
       "      <td>-2514873</td>\n",
       "    </tr>\n",
       "    <tr>\n",
       "      <th>229</th>\n",
       "      <td>tt2978462</td>\n",
       "      <td>36000000</td>\n",
       "      <td>52424533</td>\n",
       "      <td>Dolphin Tale 2</td>\n",
       "      <td>Morgan Freeman|Ashley Judd|Nathan Gamble|Cozi ...</td>\n",
       "      <td>Charles Martin Smith</td>\n",
       "      <td>WINTER's amazing true story... now has HOPE.</td>\n",
       "      <td>The team of people who saved Winter's life rea...</td>\n",
       "      <td>107</td>\n",
       "      <td>Family|Drama</td>\n",
       "      <td>Alcon Entertainment|Color Force|Boxing Cat Films</td>\n",
       "      <td>9/12/2014</td>\n",
       "      <td>6.8</td>\n",
       "      <td>2014</td>\n",
       "      <td>16424533</td>\n",
       "    </tr>\n",
       "    <tr>\n",
       "      <th>338</th>\n",
       "      <td>tt1013752</td>\n",
       "      <td>85000000</td>\n",
       "      <td>363164265</td>\n",
       "      <td>Fast &amp; Furious</td>\n",
       "      <td>Vin Diesel|Paul Walker|Jordana Brewster|Michel...</td>\n",
       "      <td>Justin Lin</td>\n",
       "      <td>New Model. Original Parts.</td>\n",
       "      <td>When a crime brings them back to L.A., fugitiv...</td>\n",
       "      <td>107</td>\n",
       "      <td>Action|Crime|Drama|Thriller</td>\n",
       "      <td>Universal Pictures|Original Film|One Race Prod...</td>\n",
       "      <td>4/2/2009</td>\n",
       "      <td>6.4</td>\n",
       "      <td>2009</td>\n",
       "      <td>278164265</td>\n",
       "    </tr>\n",
       "    <tr>\n",
       "      <th>347</th>\n",
       "      <td>tt1091722</td>\n",
       "      <td>9500000</td>\n",
       "      <td>17164377</td>\n",
       "      <td>Adventureland</td>\n",
       "      <td>Jesse Eisenberg|Kristen Stewart|Martin Starr|K...</td>\n",
       "      <td>Greg Mottola</td>\n",
       "      <td>Nothing brings people together like a crappy s...</td>\n",
       "      <td>In the summer of 1987, a college graduate take...</td>\n",
       "      <td>107</td>\n",
       "      <td>Comedy</td>\n",
       "      <td>Miramax Films|Sidney Kimmel Entertainment|This...</td>\n",
       "      <td>4/3/2009</td>\n",
       "      <td>6.3</td>\n",
       "      <td>2009</td>\n",
       "      <td>7664377</td>\n",
       "    </tr>\n",
       "    <tr>\n",
       "      <th>359</th>\n",
       "      <td>tt0458525</td>\n",
       "      <td>150000000</td>\n",
       "      <td>341131793</td>\n",
       "      <td>X-Men Origins: Wolverine</td>\n",
       "      <td>Hugh Jackman|Liev Schreiber|Danny Huston|Lynn ...</td>\n",
       "      <td>Gavin Hood</td>\n",
       "      <td>Witness the Origin.</td>\n",
       "      <td>After seeking to live a normal life, Logan set...</td>\n",
       "      <td>107</td>\n",
       "      <td>Adventure|Action|Thriller|Science Fiction</td>\n",
       "      <td>Ingenious Film Partners|Twentieth Century Fox ...</td>\n",
       "      <td>4/28/2009</td>\n",
       "      <td>6.2</td>\n",
       "      <td>2009</td>\n",
       "      <td>191131793</td>\n",
       "    </tr>\n",
       "    <tr>\n",
       "      <th>396</th>\n",
       "      <td>tt1424381</td>\n",
       "      <td>40000000</td>\n",
       "      <td>126248813</td>\n",
       "      <td>Predators</td>\n",
       "      <td>Topher Grace|Alice Braga|Laurence Fishburne|Ad...</td>\n",
       "      <td>NimrÃ³d Antal</td>\n",
       "      <td>Fear is Reborn</td>\n",
       "      <td>A mercenary named Royce reluctantly leads a mo...</td>\n",
       "      <td>107</td>\n",
       "      <td>Action|Science Fiction|Adventure|Thriller</td>\n",
       "      <td>Twentieth Century Fox Film Corporation|Davis E...</td>\n",
       "      <td>7/3/2010</td>\n",
       "      <td>5.8</td>\n",
       "      <td>2010</td>\n",
       "      <td>86248813</td>\n",
       "    </tr>\n",
       "    <tr>\n",
       "      <th>411</th>\n",
       "      <td>tt1386588</td>\n",
       "      <td>100000000</td>\n",
       "      <td>170432927</td>\n",
       "      <td>The Other Guys</td>\n",
       "      <td>Will Ferrell|Mark Wahlberg|Eva Mendes|Samuel L...</td>\n",
       "      <td>Adam McKay</td>\n",
       "      <td>When the cops are busy... Our only hope is...</td>\n",
       "      <td>NYPD detectives Christopher Danson (Johnson) a...</td>\n",
       "      <td>107</td>\n",
       "      <td>Action|Comedy|Crime</td>\n",
       "      <td>Columbia Pictures|Gary Sanchez Productions</td>\n",
       "      <td>8/6/2010</td>\n",
       "      <td>6.1</td>\n",
       "      <td>2010</td>\n",
       "      <td>70432927</td>\n",
       "    </tr>\n",
       "    <tr>\n",
       "      <th>412</th>\n",
       "      <td>tt1193631</td>\n",
       "      <td>30000000</td>\n",
       "      <td>159291809</td>\n",
       "      <td>Step Up 3D</td>\n",
       "      <td>Rick Malambri|Adam G. Sevani|Joe Slaughter|Sha...</td>\n",
       "      <td>Jon M. Chu</td>\n",
       "      <td>Two Worlds. One Dream.</td>\n",
       "      <td>A tight-knit group of New York City street dan...</td>\n",
       "      <td>107</td>\n",
       "      <td>Drama|Romance</td>\n",
       "      <td>Summit Entertainment|Touchstone Pictures</td>\n",
       "      <td>8/4/2010</td>\n",
       "      <td>6.5</td>\n",
       "      <td>2010</td>\n",
       "      <td>129291809</td>\n",
       "    </tr>\n",
       "    <tr>\n",
       "      <th>448</th>\n",
       "      <td>tt1135084</td>\n",
       "      <td>32000000</td>\n",
       "      <td>69055695</td>\n",
       "      <td>Takers</td>\n",
       "      <td>Chris Brown|Hayden Christensen|Matt Dillon|Mic...</td>\n",
       "      <td>John Luessenhop</td>\n",
       "      <td>Who's Taking Who?</td>\n",
       "      <td>A seasoned team of bank robbers, including Gor...</td>\n",
       "      <td>107</td>\n",
       "      <td>Action|Crime|Drama|Thriller</td>\n",
       "      <td>Rainforest Films</td>\n",
       "      <td>8/26/2010</td>\n",
       "      <td>6.1</td>\n",
       "      <td>2010</td>\n",
       "      <td>37055695</td>\n",
       "    </tr>\n",
       "    <tr>\n",
       "      <th>453</th>\n",
       "      <td>tt1385867</td>\n",
       "      <td>30000000</td>\n",
       "      <td>55583804</td>\n",
       "      <td>Cop Out</td>\n",
       "      <td>Bruce Willis|Tracy Morgan|Juan Carlos HernÃ¡nd...</td>\n",
       "      <td>Kevin Smith</td>\n",
       "      <td>Rock out with your Glock out</td>\n",
       "      <td>Officers Jimmy Monroe and Paul Hodges have the...</td>\n",
       "      <td>107</td>\n",
       "      <td>Action|Comedy|Crime</td>\n",
       "      <td>Warner Bros.</td>\n",
       "      <td>2/26/2010</td>\n",
       "      <td>5.5</td>\n",
       "      <td>2010</td>\n",
       "      <td>25583804</td>\n",
       "    </tr>\n",
       "    <tr>\n",
       "      <th>460</th>\n",
       "      <td>tt1244754</td>\n",
       "      <td>12500000</td>\n",
       "      <td>6732980</td>\n",
       "      <td>Conviction</td>\n",
       "      <td>Hilary Swank|Minnie Driver|Bailee Madison|Lore...</td>\n",
       "      <td>Tony Goldwyn</td>\n",
       "      <td>An extraordinary journey of how far we go to f...</td>\n",
       "      <td>When Betty Anne Waters' older brother Kenny is...</td>\n",
       "      <td>107</td>\n",
       "      <td>Drama</td>\n",
       "      <td>Oceana Media Finance|Pantheon Entertainment Co...</td>\n",
       "      <td>9/11/2010</td>\n",
       "      <td>7.0</td>\n",
       "      <td>2010</td>\n",
       "      <td>-5767020</td>\n",
       "    </tr>\n",
       "    <tr>\n",
       "      <th>473</th>\n",
       "      <td>tt0872230</td>\n",
       "      <td>25000000</td>\n",
       "      <td>19829957</td>\n",
       "      <td>My Soul to Take</td>\n",
       "      <td>Max Thieriot|John Magaro|Denzel Whitaker|Zena ...</td>\n",
       "      <td>Wes Craven</td>\n",
       "      <td>Only One Has The Power To Save Their Souls</td>\n",
       "      <td>A serial killer returns to his hometown to sta...</td>\n",
       "      <td>107</td>\n",
       "      <td>Drama|Horror|Mystery|Thriller</td>\n",
       "      <td>Relativity Media|Rogue</td>\n",
       "      <td>10/8/2010</td>\n",
       "      <td>5.2</td>\n",
       "      <td>2010</td>\n",
       "      <td>-5170043</td>\n",
       "    </tr>\n",
       "    <tr>\n",
       "      <th>489</th>\n",
       "      <td>tt1013860</td>\n",
       "      <td>20000000</td>\n",
       "      <td>4634062</td>\n",
       "      <td>Dylan Dog: Dead of Night</td>\n",
       "      <td>Brandon Routh|Peter Stormare|Sam Huntington|Ta...</td>\n",
       "      <td>Kevin Munroe</td>\n",
       "      <td>No pulse? No problem</td>\n",
       "      <td>The adventures of supernatural private eye, Dy...</td>\n",
       "      <td>107</td>\n",
       "      <td>Action|Comedy|Horror|Mystery|Science Fiction</td>\n",
       "      <td>Hyde Park Films|platinum studios|Long Distance...</td>\n",
       "      <td>10/26/2010</td>\n",
       "      <td>4.9</td>\n",
       "      <td>2010</td>\n",
       "      <td>-15365938</td>\n",
       "    </tr>\n",
       "    <tr>\n",
       "      <th>625</th>\n",
       "      <td>tt0942385</td>\n",
       "      <td>92000000</td>\n",
       "      <td>188072649</td>\n",
       "      <td>Tropic Thunder</td>\n",
       "      <td>Ben Stiller|Robert Downey Jr.|Jack Black|Jay B...</td>\n",
       "      <td>Ben Stiller</td>\n",
       "      <td>The movie they think they're making... isn't a...</td>\n",
       "      <td>Vietnam veteran 'Four Leaf' Tayback's memoir, ...</td>\n",
       "      <td>107</td>\n",
       "      <td>Action|Comedy</td>\n",
       "      <td>DreamWorks SKG|Goldcrest Pictures|Red Hour Fil...</td>\n",
       "      <td>8/9/2008</td>\n",
       "      <td>6.4</td>\n",
       "      <td>2008</td>\n",
       "      <td>96072649</td>\n",
       "    </tr>\n",
       "    <tr>\n",
       "      <th>658</th>\n",
       "      <td>tt0780536</td>\n",
       "      <td>15000000</td>\n",
       "      <td>32002538</td>\n",
       "      <td>In Bruges</td>\n",
       "      <td>Colin Farrell|Brendan Gleeson|Ralph Fiennes|Cl...</td>\n",
       "      <td>Martin McDonagh</td>\n",
       "      <td>Shoot first. Sightsee later.</td>\n",
       "      <td>Ray and Ken, two hit men, are in Bruges, Belgi...</td>\n",
       "      <td>107</td>\n",
       "      <td>Comedy|Drama|Crime</td>\n",
       "      <td>Blueprint Pictures|Scion Films|Film4|Focus Fea...</td>\n",
       "      <td>2/8/2008</td>\n",
       "      <td>7.3</td>\n",
       "      <td>2008</td>\n",
       "      <td>17002538</td>\n",
       "    </tr>\n",
       "    <tr>\n",
       "      <th>661</th>\n",
       "      <td>tt0481536</td>\n",
       "      <td>12000000</td>\n",
       "      <td>43493123</td>\n",
       "      <td>Harold &amp; Kumar Escape from Guantanamo Bay</td>\n",
       "      <td>John Cho|Kal Penn|Neil Patrick Harris|Rob Cord...</td>\n",
       "      <td>Jon Hurwitz|Hayden Schlossberg</td>\n",
       "      <td>This time they're running from the joint.</td>\n",
       "      <td>Having satisfied their urge for White Castle, ...</td>\n",
       "      <td>107</td>\n",
       "      <td>Comedy|Adventure</td>\n",
       "      <td>New Line Cinema</td>\n",
       "      <td>4/25/2008</td>\n",
       "      <td>6.0</td>\n",
       "      <td>2008</td>\n",
       "      <td>31493123</td>\n",
       "    </tr>\n",
       "    <tr>\n",
       "      <th>684</th>\n",
       "      <td>tt0800240</td>\n",
       "      <td>25000000</td>\n",
       "      <td>17741298</td>\n",
       "      <td>Deception</td>\n",
       "      <td>Hugh Jackman|Ewan McGregor|Michelle Williams|B...</td>\n",
       "      <td>Marcel Langenegger</td>\n",
       "      <td>When you're in this world, no one is who they ...</td>\n",
       "      <td>As a corporate auditor who works in a number o...</td>\n",
       "      <td>107</td>\n",
       "      <td>Drama|Thriller|Crime|Mystery</td>\n",
       "      <td>Rifkin-Eberts|Dune Entertainment III|Seed Prod...</td>\n",
       "      <td>4/24/2008</td>\n",
       "      <td>5.8</td>\n",
       "      <td>2008</td>\n",
       "      <td>-7258702</td>\n",
       "    </tr>\n",
       "    <tr>\n",
       "      <th>745</th>\n",
       "      <td>tt0983193</td>\n",
       "      <td>130000000</td>\n",
       "      <td>371940071</td>\n",
       "      <td>The Adventures of Tintin</td>\n",
       "      <td>Jamie Bell|Andy Serkis|Daniel Craig|Nick Frost...</td>\n",
       "      <td>Steven Spielberg</td>\n",
       "      <td>This year, discover how far adventure will tak...</td>\n",
       "      <td>Intrepid young reporter, Tintin and his loyal ...</td>\n",
       "      <td>107</td>\n",
       "      <td>Adventure|Animation|Action|Family|Mystery</td>\n",
       "      <td>Paramount Pictures|Columbia Pictures|WingNut F...</td>\n",
       "      <td>10/25/2011</td>\n",
       "      <td>6.6</td>\n",
       "      <td>2011</td>\n",
       "      <td>241940071</td>\n",
       "    </tr>\n",
       "    <tr>\n",
       "      <th>760</th>\n",
       "      <td>tt1192628</td>\n",
       "      <td>135000000</td>\n",
       "      <td>245724603</td>\n",
       "      <td>Rango</td>\n",
       "      <td>Johnny Depp|Isla Fisher|Ned Beatty|Bill Nighy|...</td>\n",
       "      <td>Gore Verbinski</td>\n",
       "      <td>Heroes come in all different colors.</td>\n",
       "      <td>When Rango, a lost family pet, accidentally wi...</td>\n",
       "      <td>107</td>\n",
       "      <td>Animation|Comedy|Family|Western|Adventure</td>\n",
       "      <td>Paramount Pictures|Nickelodeon Movies|GK Films...</td>\n",
       "      <td>3/2/2011</td>\n",
       "      <td>6.5</td>\n",
       "      <td>2011</td>\n",
       "      <td>110724603</td>\n",
       "    </tr>\n",
       "    <tr>\n",
       "      <th>765</th>\n",
       "      <td>tt1563738</td>\n",
       "      <td>15000000</td>\n",
       "      <td>59389433</td>\n",
       "      <td>One Day</td>\n",
       "      <td>Anne Hathaway|Jim Sturgess|Patricia Clarkson|R...</td>\n",
       "      <td>Lone Scherfig</td>\n",
       "      <td>Twenty years. Two people.</td>\n",
       "      <td>A romantic comedy centered on Dexter and Emma,...</td>\n",
       "      <td>107</td>\n",
       "      <td>Drama|Romance</td>\n",
       "      <td>Film 4|Color Force</td>\n",
       "      <td>3/2/2011</td>\n",
       "      <td>6.9</td>\n",
       "      <td>2011</td>\n",
       "      <td>44389433</td>\n",
       "    </tr>\n",
       "    <tr>\n",
       "      <th>848</th>\n",
       "      <td>tt1464174</td>\n",
       "      <td>32000000</td>\n",
       "      <td>83615414</td>\n",
       "      <td>Big Mommas: Like Father, Like Son</td>\n",
       "      <td>Portia Doubleday|Martin Lawrence|Brandon T. Ja...</td>\n",
       "      <td>John Whitesell</td>\n",
       "      <td>Momma's got back-up.</td>\n",
       "      <td>FBI agent Malcolm Turner and his 17-year-old s...</td>\n",
       "      <td>107</td>\n",
       "      <td>Crime|Comedy|Action</td>\n",
       "      <td>Twentieth Century Fox Film Corporation|Regency...</td>\n",
       "      <td>2/16/2011</td>\n",
       "      <td>5.4</td>\n",
       "      <td>2011</td>\n",
       "      <td>51615414</td>\n",
       "    </tr>\n",
       "    <tr>\n",
       "      <th>897</th>\n",
       "      <td>tt0238380</td>\n",
       "      <td>20000000</td>\n",
       "      <td>5359645</td>\n",
       "      <td>Equilibrium</td>\n",
       "      <td>Christian Bale|Taye Diggs|Emily Watson|Angus M...</td>\n",
       "      <td>Kurt Wimmer</td>\n",
       "      <td>In a future where freedom is outlawed, outlaws...</td>\n",
       "      <td>In a dystopian future, a totalitarian regime m...</td>\n",
       "      <td>107</td>\n",
       "      <td>Action|Science Fiction|Thriller</td>\n",
       "      <td>Dimension Films|Blue Tulip Productions</td>\n",
       "      <td>12/6/2002</td>\n",
       "      <td>6.9</td>\n",
       "      <td>2002</td>\n",
       "      <td>-14640355</td>\n",
       "    </tr>\n",
       "    <tr>\n",
       "      <th>946</th>\n",
       "      <td>tt0297884</td>\n",
       "      <td>13500000</td>\n",
       "      <td>29027914</td>\n",
       "      <td>Far from Heaven</td>\n",
       "      <td>Julianne Moore|Dennis Quaid|Dennis Haysbert|Pa...</td>\n",
       "      <td>Todd Haynes</td>\n",
       "      <td>It's time to stop hiding from the truth.</td>\n",
       "      <td>In 1950s Connecticut, a housewife faces a mari...</td>\n",
       "      <td>107</td>\n",
       "      <td>Drama|Romance</td>\n",
       "      <td>Clear Blue Sky Productions</td>\n",
       "      <td>9/1/2002</td>\n",
       "      <td>6.4</td>\n",
       "      <td>2002</td>\n",
       "      <td>15527914</td>\n",
       "    </tr>\n",
       "    <tr>\n",
       "      <th>1047</th>\n",
       "      <td>tt1430615</td>\n",
       "      <td>40000000</td>\n",
       "      <td>24719215</td>\n",
       "      <td>Big Miracle</td>\n",
       "      <td>Drew Barrymore|John Krasinski|Kristen Bell|Vin...</td>\n",
       "      <td>Ken Kwapis</td>\n",
       "      <td>A family of whales trapped beneath the ice. On...</td>\n",
       "      <td>Based on an inspiring true story, a small-town...</td>\n",
       "      <td>107</td>\n",
       "      <td>Adventure|Drama|Romance</td>\n",
       "      <td>Universal Pictures|Anonymous Content|Working T...</td>\n",
       "      <td>2/2/2012</td>\n",
       "      <td>6.5</td>\n",
       "      <td>2012</td>\n",
       "      <td>-15280785</td>\n",
       "    </tr>\n",
       "    <tr>\n",
       "      <th>1139</th>\n",
       "      <td>tt0322259</td>\n",
       "      <td>76000000</td>\n",
       "      <td>236350661</td>\n",
       "      <td>2 Fast 2 Furious</td>\n",
       "      <td>Paul Walker|Tyrese Gibson|Eva Mendes|Cole Haus...</td>\n",
       "      <td>John Singleton</td>\n",
       "      <td>How Fast Do You Want It?</td>\n",
       "      <td>It's a major double-cross when former police o...</td>\n",
       "      <td>107</td>\n",
       "      <td>Action|Crime|Thriller</td>\n",
       "      <td>Mikona Productions GmbH &amp; Co. KG|Universal Pic...</td>\n",
       "      <td>6/5/2003</td>\n",
       "      <td>6.1</td>\n",
       "      <td>2003</td>\n",
       "      <td>160350661</td>\n",
       "    </tr>\n",
       "    <tr>\n",
       "      <th>1238</th>\n",
       "      <td>tt1245492</td>\n",
       "      <td>32000000</td>\n",
       "      <td>126041322</td>\n",
       "      <td>This Is the End</td>\n",
       "      <td>James Franco|Jonah Hill|Seth Rogen|Jay Baruche...</td>\n",
       "      <td>Seth Rogen|Evan Goldberg</td>\n",
       "      <td>Nothing ruins a party like the end of the world.</td>\n",
       "      <td>While attending a party at James Franco's hous...</td>\n",
       "      <td>107</td>\n",
       "      <td>Action|Comedy</td>\n",
       "      <td>Columbia Pictures|Mandate Pictures|Sony Pictur...</td>\n",
       "      <td>6/12/2013</td>\n",
       "      <td>6.2</td>\n",
       "      <td>2013</td>\n",
       "      <td>94041322</td>\n",
       "    </tr>\n",
       "    <tr>\n",
       "      <th>1259</th>\n",
       "      <td>tt1814621</td>\n",
       "      <td>13000000</td>\n",
       "      <td>18000000</td>\n",
       "      <td>Admission</td>\n",
       "      <td>Tina Fey|Paul Rudd|Ann Harada|Ben Levin|Dan Levy</td>\n",
       "      <td>Paul Weitz</td>\n",
       "      <td>Let someone in.</td>\n",
       "      <td>Strait-laced Princeton University admissions o...</td>\n",
       "      <td>107</td>\n",
       "      <td>Comedy|Drama|Romance</td>\n",
       "      <td>Focus Features</td>\n",
       "      <td>3/21/2013</td>\n",
       "      <td>5.4</td>\n",
       "      <td>2013</td>\n",
       "      <td>5000000</td>\n",
       "    </tr>\n",
       "    <tr>\n",
       "      <th>1266</th>\n",
       "      <td>tt2002718</td>\n",
       "      <td>12000000</td>\n",
       "      <td>15008161</td>\n",
       "      <td>Machete Kills</td>\n",
       "      <td>Danny Trejo|Mel Gibson|Amber Heard|Michelle Ro...</td>\n",
       "      <td>Robert Rodriguez</td>\n",
       "      <td>Trained to kill. Left for dead. Back for more.</td>\n",
       "      <td>Ex-Federale agent Machete is recruited by the ...</td>\n",
       "      <td>107</td>\n",
       "      <td>Action|Crime|Thriller</td>\n",
       "      <td>Open Road Films|Overnight Films|AR Films|Aldam...</td>\n",
       "      <td>9/12/2013</td>\n",
       "      <td>5.2</td>\n",
       "      <td>2013</td>\n",
       "      <td>3008161</td>\n",
       "    </tr>\n",
       "    <tr>\n",
       "      <th>1393</th>\n",
       "      <td>tt0391304</td>\n",
       "      <td>30000000</td>\n",
       "      <td>42886719</td>\n",
       "      <td>A Lot Like Love</td>\n",
       "      <td>Ashton Kutcher|Amanda Peet|Aimee Garcia|Taryn ...</td>\n",
       "      <td>Nigel Cole</td>\n",
       "      <td>There's nothing better than a great romance......</td>\n",
       "      <td>On a flight from Los Angeles to New York, Oliv...</td>\n",
       "      <td>107</td>\n",
       "      <td>Comedy</td>\n",
       "      <td>Mile High Productions|Kevin Messick Production...</td>\n",
       "      <td>4/22/2005</td>\n",
       "      <td>6.5</td>\n",
       "      <td>2005</td>\n",
       "      <td>12886719</td>\n",
       "    </tr>\n",
       "    <tr>\n",
       "      <th>1431</th>\n",
       "      <td>tt0355702</td>\n",
       "      <td>25000000</td>\n",
       "      <td>13411957</td>\n",
       "      <td>Lords of Dogtown</td>\n",
       "      <td>Emile Hirsch|Victor Rasuk|Rebecca De Mornay|Jo...</td>\n",
       "      <td>Catherine Hardwicke</td>\n",
       "      <td>They never thought they'd be famous, but they ...</td>\n",
       "      <td>The film follows the surf and skateboarding tr...</td>\n",
       "      <td>107</td>\n",
       "      <td>Drama</td>\n",
       "      <td>Columbia Pictures|TriStar Pictures</td>\n",
       "      <td>6/3/2005</td>\n",
       "      <td>6.9</td>\n",
       "      <td>2005</td>\n",
       "      <td>-11588043</td>\n",
       "    </tr>\n",
       "    <tr>\n",
       "      <th>1449</th>\n",
       "      <td>tt0389860</td>\n",
       "      <td>82500000</td>\n",
       "      <td>237681299</td>\n",
       "      <td>Click</td>\n",
       "      <td>Adam Sandler|Kate Beckinsale|Christopher Walke...</td>\n",
       "      <td>Frank Coraci</td>\n",
       "      <td>What If You Had A Remote... That Controlled Yo...</td>\n",
       "      <td>A workaholic architect finds a universal remot...</td>\n",
       "      <td>107</td>\n",
       "      <td>Comedy|Drama|Fantasy|Romance</td>\n",
       "      <td>Original Film|Columbia Pictures Corporation|Re...</td>\n",
       "      <td>6/22/2006</td>\n",
       "      <td>5.9</td>\n",
       "      <td>2006</td>\n",
       "      <td>155181299</td>\n",
       "    </tr>\n",
       "    <tr>\n",
       "      <th>1474</th>\n",
       "      <td>tt0454841</td>\n",
       "      <td>15000000</td>\n",
       "      <td>69623713</td>\n",
       "      <td>The Hills Have Eyes</td>\n",
       "      <td>Aaron Stanford|Kathleen Quinlan|Vinessa Shaw|E...</td>\n",
       "      <td>Alexandre Aja</td>\n",
       "      <td>The lucky ones die first.</td>\n",
       "      <td>Based on Wes Craven's 1977 suspenseful cult cl...</td>\n",
       "      <td>107</td>\n",
       "      <td>Horror|Thriller</td>\n",
       "      <td>Dune Entertainment|Major Studio Partners|Crave...</td>\n",
       "      <td>3/10/2006</td>\n",
       "      <td>6.0</td>\n",
       "      <td>2006</td>\n",
       "      <td>54623713</td>\n",
       "    </tr>\n",
       "    <tr>\n",
       "      <th>1499</th>\n",
       "      <td>tt0465142</td>\n",
       "      <td>17000000</td>\n",
       "      <td>7314027</td>\n",
       "      <td>American Dreamz</td>\n",
       "      <td>Hugh Grant|Dennis Quaid|Mandy Moore|Willem Daf...</td>\n",
       "      <td>Paul Weitz</td>\n",
       "      <td>Imagine a country where more people vote for a...</td>\n",
       "      <td>The new season of \"American Dreamz,\" the wildl...</td>\n",
       "      <td>107</td>\n",
       "      <td>Comedy|Drama|Family</td>\n",
       "      <td>Universal Pictures|Depth of Field</td>\n",
       "      <td>3/4/2006</td>\n",
       "      <td>4.6</td>\n",
       "      <td>2006</td>\n",
       "      <td>-9685973</td>\n",
       "    </tr>\n",
       "    <tr>\n",
       "      <th>1589</th>\n",
       "      <td>tt0346156</td>\n",
       "      <td>70000000</td>\n",
       "      <td>57958696</td>\n",
       "      <td>Sky Captain and the World of Tomorrow</td>\n",
       "      <td>Jude Law|Gwyneth Paltrow|Giovanni Ribisi|Angel...</td>\n",
       "      <td>Kerry Conran</td>\n",
       "      <td>Who will save us?</td>\n",
       "      <td>When gigantic robots attack New York City, \"Sk...</td>\n",
       "      <td>107</td>\n",
       "      <td>Mystery|Action|Thriller|Science Fiction|Adventure</td>\n",
       "      <td>Paramount Pictures|Natural Nylon Entertainment...</td>\n",
       "      <td>9/17/2004</td>\n",
       "      <td>5.7</td>\n",
       "      <td>2004</td>\n",
       "      <td>-12041304</td>\n",
       "    </tr>\n",
       "    <tr>\n",
       "      <th>1624</th>\n",
       "      <td>tt0358135</td>\n",
       "      <td>50000000</td>\n",
       "      <td>170128460</td>\n",
       "      <td>Shall We Dance?</td>\n",
       "      <td>Richard Gere|Jennifer Lopez|Susan Sarandon|Lis...</td>\n",
       "      <td>Peter Chelsom</td>\n",
       "      <td>Step out of the ordinary</td>\n",
       "      <td>A romantic comedy where a bored, overworked Es...</td>\n",
       "      <td>107</td>\n",
       "      <td>Drama|Romance|Comedy</td>\n",
       "      <td>Miramax Films</td>\n",
       "      <td>10/15/2004</td>\n",
       "      <td>5.8</td>\n",
       "      <td>2004</td>\n",
       "      <td>120128460</td>\n",
       "    </tr>\n",
       "    <tr>\n",
       "      <th>1700</th>\n",
       "      <td>tt0461770</td>\n",
       "      <td>85000000</td>\n",
       "      <td>340487652</td>\n",
       "      <td>Enchanted</td>\n",
       "      <td>Patrick Dempsey|Amy Adams|James Marsden|Timoth...</td>\n",
       "      <td>Kevin Lima</td>\n",
       "      <td>This fairytale princess is about to meet a rea...</td>\n",
       "      <td>The beautiful princess Giselle is banished by ...</td>\n",
       "      <td>107</td>\n",
       "      <td>Comedy|Family|Fantasy|Romance</td>\n",
       "      <td>Walt Disney Pictures|Josephson Entertainment|A...</td>\n",
       "      <td>11/20/2007</td>\n",
       "      <td>6.6</td>\n",
       "      <td>2007</td>\n",
       "      <td>255487652</td>\n",
       "    </tr>\n",
       "    <tr>\n",
       "      <th>1708</th>\n",
       "      <td>tt0448134</td>\n",
       "      <td>50000000</td>\n",
       "      <td>32017803</td>\n",
       "      <td>Sunshine</td>\n",
       "      <td>Cillian Murphy|Rose Byrne|Chris Evans|Michelle...</td>\n",
       "      <td>Danny Boyle</td>\n",
       "      <td>If the sun dies, so do we.</td>\n",
       "      <td>50 years from now the sun is dying and life on...</td>\n",
       "      <td>107</td>\n",
       "      <td>Science Fiction|Thriller</td>\n",
       "      <td>DNA Films|Ingenious Film Partners|UK Film Coun...</td>\n",
       "      <td>4/5/2007</td>\n",
       "      <td>6.8</td>\n",
       "      <td>2007</td>\n",
       "      <td>-17982197</td>\n",
       "    </tr>\n",
       "    <tr>\n",
       "      <th>1851</th>\n",
       "      <td>tt0209958</td>\n",
       "      <td>33000000</td>\n",
       "      <td>104155843</td>\n",
       "      <td>The Cell</td>\n",
       "      <td>Jennifer Lopez|Vincent D'Onofrio|Vince Vaughn|...</td>\n",
       "      <td>Tarsem Singh</td>\n",
       "      <td>Enter The Mind Of A Killer</td>\n",
       "      <td>A psychotherapist journeys inside a comatose s...</td>\n",
       "      <td>107</td>\n",
       "      <td>Horror|Science Fiction|Thriller</td>\n",
       "      <td>New Line Cinema|Avery Pix|Radical Media|Katira...</td>\n",
       "      <td>8/17/2000</td>\n",
       "      <td>5.7</td>\n",
       "      <td>2000</td>\n",
       "      <td>71155843</td>\n",
       "    </tr>\n",
       "    <tr>\n",
       "      <th>1880</th>\n",
       "      <td>tt0190374</td>\n",
       "      <td>35000000</td>\n",
       "      <td>15185241</td>\n",
       "      <td>Dungeons &amp; Dragons</td>\n",
       "      <td>Justin Whalin|Jeremy Irons|Thora Birch|Bruce P...</td>\n",
       "      <td>Courtney Solomon</td>\n",
       "      <td>This is no game.</td>\n",
       "      <td>The classic role-playing game comes to life in...</td>\n",
       "      <td>107</td>\n",
       "      <td>Action|Adventure|Fantasy|Science Fiction</td>\n",
       "      <td>New Line Cinema|Silver Pictures|Sweetpea Enter...</td>\n",
       "      <td>12/8/2000</td>\n",
       "      <td>3.9</td>\n",
       "      <td>2000</td>\n",
       "      <td>-19814759</td>\n",
       "    </tr>\n",
       "    <tr>\n",
       "      <th>1882</th>\n",
       "      <td>tt0217756</td>\n",
       "      <td>24000000</td>\n",
       "      <td>12372410</td>\n",
       "      <td>Ready to Rumble</td>\n",
       "      <td>David Arquette|Scott Caan|Oliver Platt|Rose Mc...</td>\n",
       "      <td>Brian Robbins</td>\n",
       "      <td>They're headed to the big time...face first.</td>\n",
       "      <td>Two slacker wrestling fans are devastated by t...</td>\n",
       "      <td>107</td>\n",
       "      <td>Action|Comedy|Drama</td>\n",
       "      <td>Bel Air Entertainment|Warner Bros.</td>\n",
       "      <td>4/7/2000</td>\n",
       "      <td>4.4</td>\n",
       "      <td>2000</td>\n",
       "      <td>-11627590</td>\n",
       "    </tr>\n",
       "  </tbody>\n",
       "</table>\n",
       "</div>"
      ],
      "text/plain": [
       "        imdb_id     budget    revenue  \\\n",
       "70    tt2279339   17000000   24000000   \n",
       "210   tt0900387   15000000    9104716   \n",
       "224   tt2771372    6000000    3485127   \n",
       "229   tt2978462   36000000   52424533   \n",
       "338   tt1013752   85000000  363164265   \n",
       "347   tt1091722    9500000   17164377   \n",
       "359   tt0458525  150000000  341131793   \n",
       "396   tt1424381   40000000  126248813   \n",
       "411   tt1386588  100000000  170432927   \n",
       "412   tt1193631   30000000  159291809   \n",
       "448   tt1135084   32000000   69055695   \n",
       "453   tt1385867   30000000   55583804   \n",
       "460   tt1244754   12500000    6732980   \n",
       "473   tt0872230   25000000   19829957   \n",
       "489   tt1013860   20000000    4634062   \n",
       "625   tt0942385   92000000  188072649   \n",
       "658   tt0780536   15000000   32002538   \n",
       "661   tt0481536   12000000   43493123   \n",
       "684   tt0800240   25000000   17741298   \n",
       "745   tt0983193  130000000  371940071   \n",
       "760   tt1192628  135000000  245724603   \n",
       "765   tt1563738   15000000   59389433   \n",
       "848   tt1464174   32000000   83615414   \n",
       "897   tt0238380   20000000    5359645   \n",
       "946   tt0297884   13500000   29027914   \n",
       "1047  tt1430615   40000000   24719215   \n",
       "1139  tt0322259   76000000  236350661   \n",
       "1238  tt1245492   32000000  126041322   \n",
       "1259  tt1814621   13000000   18000000   \n",
       "1266  tt2002718   12000000   15008161   \n",
       "1393  tt0391304   30000000   42886719   \n",
       "1431  tt0355702   25000000   13411957   \n",
       "1449  tt0389860   82500000  237681299   \n",
       "1474  tt0454841   15000000   69623713   \n",
       "1499  tt0465142   17000000    7314027   \n",
       "1589  tt0346156   70000000   57958696   \n",
       "1624  tt0358135   50000000  170128460   \n",
       "1700  tt0461770   85000000  340487652   \n",
       "1708  tt0448134   50000000   32017803   \n",
       "1851  tt0209958   33000000  104155843   \n",
       "1880  tt0190374   35000000   15185241   \n",
       "1882  tt0217756   24000000   12372410   \n",
       "\n",
       "                                 original_title  \\\n",
       "70                             Love the Coopers   \n",
       "210                            Suite FranÃ§aise   \n",
       "224                               Veronica Mars   \n",
       "229                              Dolphin Tale 2   \n",
       "338                              Fast & Furious   \n",
       "347                               Adventureland   \n",
       "359                    X-Men Origins: Wolverine   \n",
       "396                                   Predators   \n",
       "411                              The Other Guys   \n",
       "412                                  Step Up 3D   \n",
       "448                                      Takers   \n",
       "453                                     Cop Out   \n",
       "460                                  Conviction   \n",
       "473                             My Soul to Take   \n",
       "489                    Dylan Dog: Dead of Night   \n",
       "625                              Tropic Thunder   \n",
       "658                                   In Bruges   \n",
       "661   Harold & Kumar Escape from Guantanamo Bay   \n",
       "684                                   Deception   \n",
       "745                    The Adventures of Tintin   \n",
       "760                                       Rango   \n",
       "765                                     One Day   \n",
       "848           Big Mommas: Like Father, Like Son   \n",
       "897                                 Equilibrium   \n",
       "946                             Far from Heaven   \n",
       "1047                                Big Miracle   \n",
       "1139                           2 Fast 2 Furious   \n",
       "1238                            This Is the End   \n",
       "1259                                  Admission   \n",
       "1266                              Machete Kills   \n",
       "1393                            A Lot Like Love   \n",
       "1431                           Lords of Dogtown   \n",
       "1449                                      Click   \n",
       "1474                        The Hills Have Eyes   \n",
       "1499                            American Dreamz   \n",
       "1589      Sky Captain and the World of Tomorrow   \n",
       "1624                            Shall We Dance?   \n",
       "1700                                  Enchanted   \n",
       "1708                                   Sunshine   \n",
       "1851                                   The Cell   \n",
       "1880                         Dungeons & Dragons   \n",
       "1882                            Ready to Rumble   \n",
       "\n",
       "                                                   cast  \\\n",
       "70    Steve Martin|Diane Keaton|John Goodman|Alan Ar...   \n",
       "210   Michelle Williams|Kristin Scott Thomas|Matthia...   \n",
       "224   Kristen Bell|Jason Dohring|Enrico Colantoni|Ch...   \n",
       "229   Morgan Freeman|Ashley Judd|Nathan Gamble|Cozi ...   \n",
       "338   Vin Diesel|Paul Walker|Jordana Brewster|Michel...   \n",
       "347   Jesse Eisenberg|Kristen Stewart|Martin Starr|K...   \n",
       "359   Hugh Jackman|Liev Schreiber|Danny Huston|Lynn ...   \n",
       "396   Topher Grace|Alice Braga|Laurence Fishburne|Ad...   \n",
       "411   Will Ferrell|Mark Wahlberg|Eva Mendes|Samuel L...   \n",
       "412   Rick Malambri|Adam G. Sevani|Joe Slaughter|Sha...   \n",
       "448   Chris Brown|Hayden Christensen|Matt Dillon|Mic...   \n",
       "453   Bruce Willis|Tracy Morgan|Juan Carlos HernÃ¡nd...   \n",
       "460   Hilary Swank|Minnie Driver|Bailee Madison|Lore...   \n",
       "473   Max Thieriot|John Magaro|Denzel Whitaker|Zena ...   \n",
       "489   Brandon Routh|Peter Stormare|Sam Huntington|Ta...   \n",
       "625   Ben Stiller|Robert Downey Jr.|Jack Black|Jay B...   \n",
       "658   Colin Farrell|Brendan Gleeson|Ralph Fiennes|Cl...   \n",
       "661   John Cho|Kal Penn|Neil Patrick Harris|Rob Cord...   \n",
       "684   Hugh Jackman|Ewan McGregor|Michelle Williams|B...   \n",
       "745   Jamie Bell|Andy Serkis|Daniel Craig|Nick Frost...   \n",
       "760   Johnny Depp|Isla Fisher|Ned Beatty|Bill Nighy|...   \n",
       "765   Anne Hathaway|Jim Sturgess|Patricia Clarkson|R...   \n",
       "848   Portia Doubleday|Martin Lawrence|Brandon T. Ja...   \n",
       "897   Christian Bale|Taye Diggs|Emily Watson|Angus M...   \n",
       "946   Julianne Moore|Dennis Quaid|Dennis Haysbert|Pa...   \n",
       "1047  Drew Barrymore|John Krasinski|Kristen Bell|Vin...   \n",
       "1139  Paul Walker|Tyrese Gibson|Eva Mendes|Cole Haus...   \n",
       "1238  James Franco|Jonah Hill|Seth Rogen|Jay Baruche...   \n",
       "1259   Tina Fey|Paul Rudd|Ann Harada|Ben Levin|Dan Levy   \n",
       "1266  Danny Trejo|Mel Gibson|Amber Heard|Michelle Ro...   \n",
       "1393  Ashton Kutcher|Amanda Peet|Aimee Garcia|Taryn ...   \n",
       "1431  Emile Hirsch|Victor Rasuk|Rebecca De Mornay|Jo...   \n",
       "1449  Adam Sandler|Kate Beckinsale|Christopher Walke...   \n",
       "1474  Aaron Stanford|Kathleen Quinlan|Vinessa Shaw|E...   \n",
       "1499  Hugh Grant|Dennis Quaid|Mandy Moore|Willem Daf...   \n",
       "1589  Jude Law|Gwyneth Paltrow|Giovanni Ribisi|Angel...   \n",
       "1624  Richard Gere|Jennifer Lopez|Susan Sarandon|Lis...   \n",
       "1700  Patrick Dempsey|Amy Adams|James Marsden|Timoth...   \n",
       "1708  Cillian Murphy|Rose Byrne|Chris Evans|Michelle...   \n",
       "1851  Jennifer Lopez|Vincent D'Onofrio|Vince Vaughn|...   \n",
       "1880  Justin Whalin|Jeremy Irons|Thora Birch|Bruce P...   \n",
       "1882  David Arquette|Scott Caan|Oliver Platt|Rose Mc...   \n",
       "\n",
       "                            director  \\\n",
       "70                     Jessie Nelson   \n",
       "210                        Saul Dibb   \n",
       "224                       Rob Thomas   \n",
       "229             Charles Martin Smith   \n",
       "338                       Justin Lin   \n",
       "347                     Greg Mottola   \n",
       "359                       Gavin Hood   \n",
       "396                    NimrÃ³d Antal   \n",
       "411                       Adam McKay   \n",
       "412                       Jon M. Chu   \n",
       "448                  John Luessenhop   \n",
       "453                      Kevin Smith   \n",
       "460                     Tony Goldwyn   \n",
       "473                       Wes Craven   \n",
       "489                     Kevin Munroe   \n",
       "625                      Ben Stiller   \n",
       "658                  Martin McDonagh   \n",
       "661   Jon Hurwitz|Hayden Schlossberg   \n",
       "684               Marcel Langenegger   \n",
       "745                 Steven Spielberg   \n",
       "760                   Gore Verbinski   \n",
       "765                    Lone Scherfig   \n",
       "848                   John Whitesell   \n",
       "897                      Kurt Wimmer   \n",
       "946                      Todd Haynes   \n",
       "1047                      Ken Kwapis   \n",
       "1139                  John Singleton   \n",
       "1238        Seth Rogen|Evan Goldberg   \n",
       "1259                      Paul Weitz   \n",
       "1266                Robert Rodriguez   \n",
       "1393                      Nigel Cole   \n",
       "1431             Catherine Hardwicke   \n",
       "1449                    Frank Coraci   \n",
       "1474                   Alexandre Aja   \n",
       "1499                      Paul Weitz   \n",
       "1589                    Kerry Conran   \n",
       "1624                   Peter Chelsom   \n",
       "1700                      Kevin Lima   \n",
       "1708                     Danny Boyle   \n",
       "1851                    Tarsem Singh   \n",
       "1880                Courtney Solomon   \n",
       "1882                   Brian Robbins   \n",
       "\n",
       "                                                tagline  \\\n",
       "70              Christmas means comfort, joy and chaos.   \n",
       "210                     Based on the Best Selling Novel   \n",
       "224                             She thought she was out   \n",
       "229        WINTER's amazing true story... now has HOPE.   \n",
       "338                          New Model. Original Parts.   \n",
       "347   Nothing brings people together like a crappy s...   \n",
       "359                                 Witness the Origin.   \n",
       "396                                      Fear is Reborn   \n",
       "411       When the cops are busy... Our only hope is...   \n",
       "412                              Two Worlds. One Dream.   \n",
       "448                                   Who's Taking Who?   \n",
       "453                        Rock out with your Glock out   \n",
       "460   An extraordinary journey of how far we go to f...   \n",
       "473          Only One Has The Power To Save Their Souls   \n",
       "489                                No pulse? No problem   \n",
       "625   The movie they think they're making... isn't a...   \n",
       "658                        Shoot first. Sightsee later.   \n",
       "661           This time they're running from the joint.   \n",
       "684   When you're in this world, no one is who they ...   \n",
       "745   This year, discover how far adventure will tak...   \n",
       "760                Heroes come in all different colors.   \n",
       "765                           Twenty years. Two people.   \n",
       "848                                Momma's got back-up.   \n",
       "897   In a future where freedom is outlawed, outlaws...   \n",
       "946            It's time to stop hiding from the truth.   \n",
       "1047  A family of whales trapped beneath the ice. On...   \n",
       "1139                           How Fast Do You Want It?   \n",
       "1238   Nothing ruins a party like the end of the world.   \n",
       "1259                                    Let someone in.   \n",
       "1266     Trained to kill. Left for dead. Back for more.   \n",
       "1393  There's nothing better than a great romance......   \n",
       "1431  They never thought they'd be famous, but they ...   \n",
       "1449  What If You Had A Remote... That Controlled Yo...   \n",
       "1474                          The lucky ones die first.   \n",
       "1499  Imagine a country where more people vote for a...   \n",
       "1589                                  Who will save us?   \n",
       "1624                           Step out of the ordinary   \n",
       "1700  This fairytale princess is about to meet a rea...   \n",
       "1708                         If the sun dies, so do we.   \n",
       "1851                         Enter The Mind Of A Killer   \n",
       "1880                                   This is no game.   \n",
       "1882       They're headed to the big time...face first.   \n",
       "\n",
       "                                               overview  runtime  \\\n",
       "70    When four generations of the Cooper clan come ...      107   \n",
       "210   France, 1940. In the first days of occupation,...      107   \n",
       "224   Years after walking away from her past as a te...      107   \n",
       "229   The team of people who saved Winter's life rea...      107   \n",
       "338   When a crime brings them back to L.A., fugitiv...      107   \n",
       "347   In the summer of 1987, a college graduate take...      107   \n",
       "359   After seeking to live a normal life, Logan set...      107   \n",
       "396   A mercenary named Royce reluctantly leads a mo...      107   \n",
       "411   NYPD detectives Christopher Danson (Johnson) a...      107   \n",
       "412   A tight-knit group of New York City street dan...      107   \n",
       "448   A seasoned team of bank robbers, including Gor...      107   \n",
       "453   Officers Jimmy Monroe and Paul Hodges have the...      107   \n",
       "460   When Betty Anne Waters' older brother Kenny is...      107   \n",
       "473   A serial killer returns to his hometown to sta...      107   \n",
       "489   The adventures of supernatural private eye, Dy...      107   \n",
       "625   Vietnam veteran 'Four Leaf' Tayback's memoir, ...      107   \n",
       "658   Ray and Ken, two hit men, are in Bruges, Belgi...      107   \n",
       "661   Having satisfied their urge for White Castle, ...      107   \n",
       "684   As a corporate auditor who works in a number o...      107   \n",
       "745   Intrepid young reporter, Tintin and his loyal ...      107   \n",
       "760   When Rango, a lost family pet, accidentally wi...      107   \n",
       "765   A romantic comedy centered on Dexter and Emma,...      107   \n",
       "848   FBI agent Malcolm Turner and his 17-year-old s...      107   \n",
       "897   In a dystopian future, a totalitarian regime m...      107   \n",
       "946   In 1950s Connecticut, a housewife faces a mari...      107   \n",
       "1047  Based on an inspiring true story, a small-town...      107   \n",
       "1139  It's a major double-cross when former police o...      107   \n",
       "1238  While attending a party at James Franco's hous...      107   \n",
       "1259  Strait-laced Princeton University admissions o...      107   \n",
       "1266  Ex-Federale agent Machete is recruited by the ...      107   \n",
       "1393  On a flight from Los Angeles to New York, Oliv...      107   \n",
       "1431  The film follows the surf and skateboarding tr...      107   \n",
       "1449  A workaholic architect finds a universal remot...      107   \n",
       "1474  Based on Wes Craven's 1977 suspenseful cult cl...      107   \n",
       "1499  The new season of \"American Dreamz,\" the wildl...      107   \n",
       "1589  When gigantic robots attack New York City, \"Sk...      107   \n",
       "1624  A romantic comedy where a bored, overworked Es...      107   \n",
       "1700  The beautiful princess Giselle is banished by ...      107   \n",
       "1708  50 years from now the sun is dying and life on...      107   \n",
       "1851  A psychotherapist journeys inside a comatose s...      107   \n",
       "1880  The classic role-playing game comes to life in...      107   \n",
       "1882  Two slacker wrestling fans are devastated by t...      107   \n",
       "\n",
       "                                                 genres  \\\n",
       "70                                        Family|Comedy   \n",
       "210                                   Drama|Romance|War   \n",
       "224                                  Comedy|Drama|Crime   \n",
       "229                                        Family|Drama   \n",
       "338                         Action|Crime|Drama|Thriller   \n",
       "347                                              Comedy   \n",
       "359           Adventure|Action|Thriller|Science Fiction   \n",
       "396           Action|Science Fiction|Adventure|Thriller   \n",
       "411                                 Action|Comedy|Crime   \n",
       "412                                       Drama|Romance   \n",
       "448                         Action|Crime|Drama|Thriller   \n",
       "453                                 Action|Comedy|Crime   \n",
       "460                                               Drama   \n",
       "473                       Drama|Horror|Mystery|Thriller   \n",
       "489        Action|Comedy|Horror|Mystery|Science Fiction   \n",
       "625                                       Action|Comedy   \n",
       "658                                  Comedy|Drama|Crime   \n",
       "661                                    Comedy|Adventure   \n",
       "684                        Drama|Thriller|Crime|Mystery   \n",
       "745           Adventure|Animation|Action|Family|Mystery   \n",
       "760           Animation|Comedy|Family|Western|Adventure   \n",
       "765                                       Drama|Romance   \n",
       "848                                 Crime|Comedy|Action   \n",
       "897                     Action|Science Fiction|Thriller   \n",
       "946                                       Drama|Romance   \n",
       "1047                            Adventure|Drama|Romance   \n",
       "1139                              Action|Crime|Thriller   \n",
       "1238                                      Action|Comedy   \n",
       "1259                               Comedy|Drama|Romance   \n",
       "1266                              Action|Crime|Thriller   \n",
       "1393                                             Comedy   \n",
       "1431                                              Drama   \n",
       "1449                       Comedy|Drama|Fantasy|Romance   \n",
       "1474                                    Horror|Thriller   \n",
       "1499                                Comedy|Drama|Family   \n",
       "1589  Mystery|Action|Thriller|Science Fiction|Adventure   \n",
       "1624                               Drama|Romance|Comedy   \n",
       "1700                      Comedy|Family|Fantasy|Romance   \n",
       "1708                           Science Fiction|Thriller   \n",
       "1851                    Horror|Science Fiction|Thriller   \n",
       "1880           Action|Adventure|Fantasy|Science Fiction   \n",
       "1882                                Action|Comedy|Drama   \n",
       "\n",
       "                                   production_companies release_date  \\\n",
       "70    Imagine Entertainment|Groundswell Productions|...   11/12/2015   \n",
       "210   Qwerty Films|Alliance Films|Canal+|TF1 Droits ...    11/5/2014   \n",
       "224   Warner Bros.|Warner Bros. Interactive Entertai...    3/13/2014   \n",
       "229    Alcon Entertainment|Color Force|Boxing Cat Films    9/12/2014   \n",
       "338   Universal Pictures|Original Film|One Race Prod...     4/2/2009   \n",
       "347   Miramax Films|Sidney Kimmel Entertainment|This...     4/3/2009   \n",
       "359   Ingenious Film Partners|Twentieth Century Fox ...    4/28/2009   \n",
       "396   Twentieth Century Fox Film Corporation|Davis E...     7/3/2010   \n",
       "411          Columbia Pictures|Gary Sanchez Productions     8/6/2010   \n",
       "412            Summit Entertainment|Touchstone Pictures     8/4/2010   \n",
       "448                                    Rainforest Films    8/26/2010   \n",
       "453                                        Warner Bros.    2/26/2010   \n",
       "460   Oceana Media Finance|Pantheon Entertainment Co...    9/11/2010   \n",
       "473                              Relativity Media|Rogue    10/8/2010   \n",
       "489   Hyde Park Films|platinum studios|Long Distance...   10/26/2010   \n",
       "625   DreamWorks SKG|Goldcrest Pictures|Red Hour Fil...     8/9/2008   \n",
       "658   Blueprint Pictures|Scion Films|Film4|Focus Fea...     2/8/2008   \n",
       "661                                     New Line Cinema    4/25/2008   \n",
       "684   Rifkin-Eberts|Dune Entertainment III|Seed Prod...    4/24/2008   \n",
       "745   Paramount Pictures|Columbia Pictures|WingNut F...   10/25/2011   \n",
       "760   Paramount Pictures|Nickelodeon Movies|GK Films...     3/2/2011   \n",
       "765                                  Film 4|Color Force     3/2/2011   \n",
       "848   Twentieth Century Fox Film Corporation|Regency...    2/16/2011   \n",
       "897              Dimension Films|Blue Tulip Productions    12/6/2002   \n",
       "946                          Clear Blue Sky Productions     9/1/2002   \n",
       "1047  Universal Pictures|Anonymous Content|Working T...     2/2/2012   \n",
       "1139  Mikona Productions GmbH & Co. KG|Universal Pic...     6/5/2003   \n",
       "1238  Columbia Pictures|Mandate Pictures|Sony Pictur...    6/12/2013   \n",
       "1259                                     Focus Features    3/21/2013   \n",
       "1266  Open Road Films|Overnight Films|AR Films|Aldam...    9/12/2013   \n",
       "1393  Mile High Productions|Kevin Messick Production...    4/22/2005   \n",
       "1431                 Columbia Pictures|TriStar Pictures     6/3/2005   \n",
       "1449  Original Film|Columbia Pictures Corporation|Re...    6/22/2006   \n",
       "1474  Dune Entertainment|Major Studio Partners|Crave...    3/10/2006   \n",
       "1499                  Universal Pictures|Depth of Field     3/4/2006   \n",
       "1589  Paramount Pictures|Natural Nylon Entertainment...    9/17/2004   \n",
       "1624                                      Miramax Films   10/15/2004   \n",
       "1700  Walt Disney Pictures|Josephson Entertainment|A...   11/20/2007   \n",
       "1708  DNA Films|Ingenious Film Partners|UK Film Coun...     4/5/2007   \n",
       "1851  New Line Cinema|Avery Pix|Radical Media|Katira...    8/17/2000   \n",
       "1880  New Line Cinema|Silver Pictures|Sweetpea Enter...    12/8/2000   \n",
       "1882                 Bel Air Entertainment|Warner Bros.     4/7/2000   \n",
       "\n",
       "      vote_average  release_year     profit  \n",
       "70             5.3          2015    7000000  \n",
       "210            6.9          2014   -5895284  \n",
       "224            6.3          2014   -2514873  \n",
       "229            6.8          2014   16424533  \n",
       "338            6.4          2009  278164265  \n",
       "347            6.3          2009    7664377  \n",
       "359            6.2          2009  191131793  \n",
       "396            5.8          2010   86248813  \n",
       "411            6.1          2010   70432927  \n",
       "412            6.5          2010  129291809  \n",
       "448            6.1          2010   37055695  \n",
       "453            5.5          2010   25583804  \n",
       "460            7.0          2010   -5767020  \n",
       "473            5.2          2010   -5170043  \n",
       "489            4.9          2010  -15365938  \n",
       "625            6.4          2008   96072649  \n",
       "658            7.3          2008   17002538  \n",
       "661            6.0          2008   31493123  \n",
       "684            5.8          2008   -7258702  \n",
       "745            6.6          2011  241940071  \n",
       "760            6.5          2011  110724603  \n",
       "765            6.9          2011   44389433  \n",
       "848            5.4          2011   51615414  \n",
       "897            6.9          2002  -14640355  \n",
       "946            6.4          2002   15527914  \n",
       "1047           6.5          2012  -15280785  \n",
       "1139           6.1          2003  160350661  \n",
       "1238           6.2          2013   94041322  \n",
       "1259           5.4          2013    5000000  \n",
       "1266           5.2          2013    3008161  \n",
       "1393           6.5          2005   12886719  \n",
       "1431           6.9          2005  -11588043  \n",
       "1449           5.9          2006  155181299  \n",
       "1474           6.0          2006   54623713  \n",
       "1499           4.6          2006   -9685973  \n",
       "1589           5.7          2004  -12041304  \n",
       "1624           5.8          2004  120128460  \n",
       "1700           6.6          2007  255487652  \n",
       "1708           6.8          2007  -17982197  \n",
       "1851           5.7          2000   71155843  \n",
       "1880           3.9          2000  -19814759  \n",
       "1882           4.4          2000  -11627590  "
      ]
     },
     "execution_count": 14,
     "metadata": {},
     "output_type": "execute_result"
    }
   ],
   "source": [
    "data[data.runtime == data.runtime.median()]"
   ]
  },
  {
   "cell_type": "markdown",
   "metadata": {
    "colab_type": "text",
    "id": "39P-deDSVp-y"
   },
   "source": [
    "# 6. Какой самый прибыльный фильм?\n",
    "#### Внимание! Здесь и далее под «прибылью» или «убытками» понимается разность между сборами и бюджетом фильма. (прибыль = сборы - бюджет) в нашем датасете это будет (profit = revenue - budget) "
   ]
  },
  {
   "cell_type": "code",
   "execution_count": 15,
   "metadata": {
    "colab": {},
    "colab_type": "code",
    "id": "UYZh4T9WVp-y"
   },
   "outputs": [],
   "source": [
    "answers['6'] = '239. Avatar (tt0499549)'"
   ]
  },
  {
   "cell_type": "code",
   "execution_count": 16,
   "metadata": {},
   "outputs": [
    {
     "data": {
      "text/html": [
       "<div>\n",
       "<style scoped>\n",
       "    .dataframe tbody tr th:only-of-type {\n",
       "        vertical-align: middle;\n",
       "    }\n",
       "\n",
       "    .dataframe tbody tr th {\n",
       "        vertical-align: top;\n",
       "    }\n",
       "\n",
       "    .dataframe thead th {\n",
       "        text-align: right;\n",
       "    }\n",
       "</style>\n",
       "<table border=\"1\" class=\"dataframe\">\n",
       "  <thead>\n",
       "    <tr style=\"text-align: right;\">\n",
       "      <th></th>\n",
       "      <th>imdb_id</th>\n",
       "      <th>budget</th>\n",
       "      <th>revenue</th>\n",
       "      <th>original_title</th>\n",
       "      <th>cast</th>\n",
       "      <th>director</th>\n",
       "      <th>tagline</th>\n",
       "      <th>overview</th>\n",
       "      <th>runtime</th>\n",
       "      <th>genres</th>\n",
       "      <th>production_companies</th>\n",
       "      <th>release_date</th>\n",
       "      <th>vote_average</th>\n",
       "      <th>release_year</th>\n",
       "      <th>profit</th>\n",
       "    </tr>\n",
       "  </thead>\n",
       "  <tbody>\n",
       "    <tr>\n",
       "      <th>239</th>\n",
       "      <td>tt0499549</td>\n",
       "      <td>237000000</td>\n",
       "      <td>2781505847</td>\n",
       "      <td>Avatar</td>\n",
       "      <td>Sam Worthington|Zoe Saldana|Sigourney Weaver|S...</td>\n",
       "      <td>James Cameron</td>\n",
       "      <td>Enter the World of Pandora.</td>\n",
       "      <td>In the 22nd century, a paraplegic Marine is di...</td>\n",
       "      <td>162</td>\n",
       "      <td>Action|Adventure|Fantasy|Science Fiction</td>\n",
       "      <td>Ingenious Film Partners|Twentieth Century Fox ...</td>\n",
       "      <td>12/10/2009</td>\n",
       "      <td>7.1</td>\n",
       "      <td>2009</td>\n",
       "      <td>2544505847</td>\n",
       "    </tr>\n",
       "  </tbody>\n",
       "</table>\n",
       "</div>"
      ],
      "text/plain": [
       "       imdb_id     budget     revenue original_title  \\\n",
       "239  tt0499549  237000000  2781505847         Avatar   \n",
       "\n",
       "                                                  cast       director  \\\n",
       "239  Sam Worthington|Zoe Saldana|Sigourney Weaver|S...  James Cameron   \n",
       "\n",
       "                         tagline  \\\n",
       "239  Enter the World of Pandora.   \n",
       "\n",
       "                                              overview  runtime  \\\n",
       "239  In the 22nd century, a paraplegic Marine is di...      162   \n",
       "\n",
       "                                       genres  \\\n",
       "239  Action|Adventure|Fantasy|Science Fiction   \n",
       "\n",
       "                                  production_companies release_date  \\\n",
       "239  Ingenious Film Partners|Twentieth Century Fox ...   12/10/2009   \n",
       "\n",
       "     vote_average  release_year      profit  \n",
       "239           7.1          2009  2544505847  "
      ]
     },
     "execution_count": 16,
     "metadata": {},
     "output_type": "execute_result"
    }
   ],
   "source": [
    "data[data.profit == data.profit.max()]"
   ]
  },
  {
   "cell_type": "markdown",
   "metadata": {
    "colab_type": "text",
    "id": "M99JmIX4Vp-2"
   },
   "source": [
    "# 7. Какой фильм самый убыточный? "
   ]
  },
  {
   "cell_type": "code",
   "execution_count": 17,
   "metadata": {
    "colab": {},
    "colab_type": "code",
    "id": "w-D2m4XPVp-3"
   },
   "outputs": [],
   "source": [
    "answers['7'] = '1245. The Lone Ranger (tt1210819)'"
   ]
  },
  {
   "cell_type": "code",
   "execution_count": 18,
   "metadata": {},
   "outputs": [
    {
     "data": {
      "text/html": [
       "<div>\n",
       "<style scoped>\n",
       "    .dataframe tbody tr th:only-of-type {\n",
       "        vertical-align: middle;\n",
       "    }\n",
       "\n",
       "    .dataframe tbody tr th {\n",
       "        vertical-align: top;\n",
       "    }\n",
       "\n",
       "    .dataframe thead th {\n",
       "        text-align: right;\n",
       "    }\n",
       "</style>\n",
       "<table border=\"1\" class=\"dataframe\">\n",
       "  <thead>\n",
       "    <tr style=\"text-align: right;\">\n",
       "      <th></th>\n",
       "      <th>imdb_id</th>\n",
       "      <th>budget</th>\n",
       "      <th>revenue</th>\n",
       "      <th>original_title</th>\n",
       "      <th>cast</th>\n",
       "      <th>director</th>\n",
       "      <th>tagline</th>\n",
       "      <th>overview</th>\n",
       "      <th>runtime</th>\n",
       "      <th>genres</th>\n",
       "      <th>production_companies</th>\n",
       "      <th>release_date</th>\n",
       "      <th>vote_average</th>\n",
       "      <th>release_year</th>\n",
       "      <th>profit</th>\n",
       "    </tr>\n",
       "  </thead>\n",
       "  <tbody>\n",
       "    <tr>\n",
       "      <th>1245</th>\n",
       "      <td>tt1210819</td>\n",
       "      <td>255000000</td>\n",
       "      <td>89289910</td>\n",
       "      <td>The Lone Ranger</td>\n",
       "      <td>Johnny Depp|Armie Hammer|William Fichtner|Hele...</td>\n",
       "      <td>Gore Verbinski</td>\n",
       "      <td>Never Take Off the Mask</td>\n",
       "      <td>The Texas Rangers chase down a gang of outlaws...</td>\n",
       "      <td>149</td>\n",
       "      <td>Action|Adventure|Western</td>\n",
       "      <td>Walt Disney Pictures|Jerry Bruckheimer Films|I...</td>\n",
       "      <td>7/3/2013</td>\n",
       "      <td>6.0</td>\n",
       "      <td>2013</td>\n",
       "      <td>-165710090</td>\n",
       "    </tr>\n",
       "  </tbody>\n",
       "</table>\n",
       "</div>"
      ],
      "text/plain": [
       "        imdb_id     budget   revenue   original_title  \\\n",
       "1245  tt1210819  255000000  89289910  The Lone Ranger   \n",
       "\n",
       "                                                   cast        director  \\\n",
       "1245  Johnny Depp|Armie Hammer|William Fichtner|Hele...  Gore Verbinski   \n",
       "\n",
       "                      tagline  \\\n",
       "1245  Never Take Off the Mask   \n",
       "\n",
       "                                               overview  runtime  \\\n",
       "1245  The Texas Rangers chase down a gang of outlaws...      149   \n",
       "\n",
       "                        genres  \\\n",
       "1245  Action|Adventure|Western   \n",
       "\n",
       "                                   production_companies release_date  \\\n",
       "1245  Walt Disney Pictures|Jerry Bruckheimer Films|I...     7/3/2013   \n",
       "\n",
       "      vote_average  release_year     profit  \n",
       "1245           6.0          2013 -165710090  "
      ]
     },
     "execution_count": 18,
     "metadata": {},
     "output_type": "execute_result"
    }
   ],
   "source": [
    "data[data.profit == data.profit.min()]"
   ]
  },
  {
   "cell_type": "markdown",
   "metadata": {
    "colab_type": "text",
    "id": "wEOM5ERVVp-6"
   },
   "source": [
    "# 8. У скольких фильмов из датасета объем сборов оказался выше бюджета?"
   ]
  },
  {
   "cell_type": "code",
   "execution_count": 19,
   "metadata": {
    "colab": {},
    "colab_type": "code",
    "id": "y00_7HD6Vp-7"
   },
   "outputs": [],
   "source": [
    "answers['8'] = '1478'"
   ]
  },
  {
   "cell_type": "code",
   "execution_count": 20,
   "metadata": {},
   "outputs": [
    {
     "data": {
      "text/plain": [
       "1478"
      ]
     },
     "execution_count": 20,
     "metadata": {},
     "output_type": "execute_result"
    }
   ],
   "source": [
    "#Вариант 1\n",
    "data[data.profit > 0]['imdb_id'].count()"
   ]
  },
  {
   "cell_type": "code",
   "execution_count": 21,
   "metadata": {},
   "outputs": [
    {
     "data": {
      "text/plain": [
       "1478"
      ]
     },
     "execution_count": 21,
     "metadata": {},
     "output_type": "execute_result"
    }
   ],
   "source": [
    "#Вариант 2\n",
    "data[data['revenue'] > data['budget']]['imdb_id'].count()"
   ]
  },
  {
   "cell_type": "markdown",
   "metadata": {
    "colab_type": "text",
    "id": "xhpspA9KVp_A"
   },
   "source": [
    "# 9. Какой фильм оказался самым кассовым в 2008 году?"
   ]
  },
  {
   "cell_type": "code",
   "execution_count": 22,
   "metadata": {
    "colab": {},
    "colab_type": "code",
    "id": "MoUyQr9RVp_B"
   },
   "outputs": [],
   "source": [
    "answers['9'] = '599. The Dark Knight (tt0468569)'"
   ]
  },
  {
   "cell_type": "code",
   "execution_count": 23,
   "metadata": {},
   "outputs": [
    {
     "data": {
      "text/plain": [
       "'The Dark Knight'"
      ]
     },
     "execution_count": 23,
     "metadata": {},
     "output_type": "execute_result"
    }
   ],
   "source": [
    "data9 = data.copy()\n",
    "data9 = data9.loc[data.release_year == 2008]\n",
    "data9.set_index('original_title')['profit'].idxmax()"
   ]
  },
  {
   "cell_type": "markdown",
   "metadata": {
    "colab_type": "text",
    "id": "Zi4hDKidVp_F"
   },
   "source": [
    "# 10. Самый убыточный фильм за период с 2012 по 2014 г. (включительно)?"
   ]
  },
  {
   "cell_type": "code",
   "execution_count": 24,
   "metadata": {
    "colab": {},
    "colab_type": "code",
    "id": "XqyRmufJVp_F"
   },
   "outputs": [],
   "source": [
    "answers['10'] = '1245. The Lone Ranger (tt1210819)'"
   ]
  },
  {
   "cell_type": "code",
   "execution_count": 25,
   "metadata": {},
   "outputs": [
    {
     "data": {
      "text/html": [
       "<div>\n",
       "<style scoped>\n",
       "    .dataframe tbody tr th:only-of-type {\n",
       "        vertical-align: middle;\n",
       "    }\n",
       "\n",
       "    .dataframe tbody tr th {\n",
       "        vertical-align: top;\n",
       "    }\n",
       "\n",
       "    .dataframe thead th {\n",
       "        text-align: right;\n",
       "    }\n",
       "</style>\n",
       "<table border=\"1\" class=\"dataframe\">\n",
       "  <thead>\n",
       "    <tr style=\"text-align: right;\">\n",
       "      <th></th>\n",
       "      <th>imdb_id</th>\n",
       "      <th>budget</th>\n",
       "      <th>revenue</th>\n",
       "      <th>original_title</th>\n",
       "      <th>cast</th>\n",
       "      <th>director</th>\n",
       "      <th>tagline</th>\n",
       "      <th>overview</th>\n",
       "      <th>runtime</th>\n",
       "      <th>genres</th>\n",
       "      <th>production_companies</th>\n",
       "      <th>release_date</th>\n",
       "      <th>vote_average</th>\n",
       "      <th>release_year</th>\n",
       "      <th>profit</th>\n",
       "    </tr>\n",
       "  </thead>\n",
       "  <tbody>\n",
       "    <tr>\n",
       "      <th>1245</th>\n",
       "      <td>tt1210819</td>\n",
       "      <td>255000000</td>\n",
       "      <td>89289910</td>\n",
       "      <td>The Lone Ranger</td>\n",
       "      <td>Johnny Depp|Armie Hammer|William Fichtner|Hele...</td>\n",
       "      <td>Gore Verbinski</td>\n",
       "      <td>Never Take Off the Mask</td>\n",
       "      <td>The Texas Rangers chase down a gang of outlaws...</td>\n",
       "      <td>149</td>\n",
       "      <td>Action|Adventure|Western</td>\n",
       "      <td>Walt Disney Pictures|Jerry Bruckheimer Films|I...</td>\n",
       "      <td>7/3/2013</td>\n",
       "      <td>6.0</td>\n",
       "      <td>2013</td>\n",
       "      <td>-165710090</td>\n",
       "    </tr>\n",
       "  </tbody>\n",
       "</table>\n",
       "</div>"
      ],
      "text/plain": [
       "        imdb_id     budget   revenue   original_title  \\\n",
       "1245  tt1210819  255000000  89289910  The Lone Ranger   \n",
       "\n",
       "                                                   cast        director  \\\n",
       "1245  Johnny Depp|Armie Hammer|William Fichtner|Hele...  Gore Verbinski   \n",
       "\n",
       "                      tagline  \\\n",
       "1245  Never Take Off the Mask   \n",
       "\n",
       "                                               overview  runtime  \\\n",
       "1245  The Texas Rangers chase down a gang of outlaws...      149   \n",
       "\n",
       "                        genres  \\\n",
       "1245  Action|Adventure|Western   \n",
       "\n",
       "                                   production_companies release_date  \\\n",
       "1245  Walt Disney Pictures|Jerry Bruckheimer Films|I...     7/3/2013   \n",
       "\n",
       "      vote_average  release_year     profit  \n",
       "1245           6.0          2013 -165710090  "
      ]
     },
     "execution_count": 25,
     "metadata": {},
     "output_type": "execute_result"
    }
   ],
   "source": [
    "data10 = data.copy()\n",
    "data10[data10.profit == data10.query('2012 <= release_year <= 2014').profit.min()]"
   ]
  },
  {
   "cell_type": "markdown",
   "metadata": {
    "colab_type": "text",
    "id": "EA7Sa9dkVp_I"
   },
   "source": [
    "# 11. Какого жанра фильмов больше всего?"
   ]
  },
  {
   "cell_type": "code",
   "execution_count": 26,
   "metadata": {
    "colab": {},
    "colab_type": "code",
    "id": "otO3SbrSVp_N"
   },
   "outputs": [],
   "source": [
    "answers['11'] = 'Drama'"
   ]
  },
  {
   "cell_type": "code",
   "execution_count": 27,
   "metadata": {},
   "outputs": [
    {
     "data": {
      "text/plain": [
       "Drama              782\n",
       "Comedy             683\n",
       "Thriller           596\n",
       "Action             582\n",
       "Adventure          415\n",
       "Crime              315\n",
       "Romance            308\n",
       "Family             260\n",
       "Science Fiction    248\n",
       "Fantasy            222\n",
       "Horror             176\n",
       "Mystery            168\n",
       "Animation          139\n",
       "Music               64\n",
       "History             62\n",
       "War                 58\n",
       "Western             19\n",
       "Documentary          8\n",
       "Foreign              2\n",
       "Name: genres, dtype: int64"
      ]
     },
     "execution_count": 27,
     "metadata": {},
     "output_type": "execute_result"
    }
   ],
   "source": [
    "#Вариант 1\n",
    "film_genre = data.copy()\n",
    "film_genre.genres = film_genre.genres.str.split('|')\n",
    "film_genre = film_genre.explode('genres')\n",
    "film_genre = film_genre.genres.value_counts()\n",
    "film_genre"
   ]
  },
  {
   "cell_type": "code",
   "execution_count": 28,
   "metadata": {},
   "outputs": [
    {
     "data": {
      "text/plain": [
       "Counter({'Action': 582,\n",
       "         'Adventure': 415,\n",
       "         'Science Fiction': 248,\n",
       "         'Thriller': 596,\n",
       "         'Fantasy': 222,\n",
       "         'Crime': 315,\n",
       "         'Western': 19,\n",
       "         'Drama': 782,\n",
       "         'Family': 260,\n",
       "         'Animation': 139,\n",
       "         'Comedy': 683,\n",
       "         'Mystery': 168,\n",
       "         'Romance': 308,\n",
       "         'War': 58,\n",
       "         'History': 62,\n",
       "         'Music': 64,\n",
       "         'Horror': 176,\n",
       "         'Documentary': 8,\n",
       "         'Foreign': 2})"
      ]
     },
     "execution_count": 28,
     "metadata": {},
     "output_type": "execute_result"
    }
   ],
   "source": [
    "#Вариант 2\n",
    "film_genre = data.copy()\n",
    "film_genre.genres = film_genre.genres.str.split('|')\n",
    "film_genre = film_genre.explode('genres')\n",
    "\n",
    "film_genre2 = Counter()\n",
    "for word in film_genre.genres:\n",
    "    film_genre2[word] += 1\n",
    "film_genre2"
   ]
  },
  {
   "cell_type": "code",
   "execution_count": 29,
   "metadata": {},
   "outputs": [
    {
     "data": {
      "text/plain": [
       "[('Drama', 782)]"
      ]
     },
     "execution_count": 29,
     "metadata": {},
     "output_type": "execute_result"
    }
   ],
   "source": [
    "Counter(film_genre.genres).most_common(1)"
   ]
  },
  {
   "cell_type": "code",
   "execution_count": 30,
   "metadata": {},
   "outputs": [
    {
     "name": "stdout",
     "output_type": "stream",
     "text": [
      "Больше всего фильмов в жанре \"Drama\".\n"
     ]
    }
   ],
   "source": [
    "#Вариант 3\n",
    "film_genre = data.copy()\n",
    "genre_pop = pd.Series(film_genre.genres.str.split('|').sum()).value_counts().idxmax()\n",
    "print(f'Больше всего фильмов в жанре \"{genre_pop}\".')"
   ]
  },
  {
   "cell_type": "markdown",
   "metadata": {
    "colab_type": "text",
    "id": "T9_bPWpkVp_Q"
   },
   "source": [
    "# 12. Фильмы какого жанра чаще всего становятся прибыльными? "
   ]
  },
  {
   "cell_type": "code",
   "execution_count": 31,
   "metadata": {
    "colab": {},
    "colab_type": "code",
    "id": "Tmt8MaK1Vp_R"
   },
   "outputs": [],
   "source": [
    "answers['12'] = 'Drama'"
   ]
  },
  {
   "cell_type": "code",
   "execution_count": 32,
   "metadata": {},
   "outputs": [
    {
     "data": {
      "text/plain": [
       "'Drama'"
      ]
     },
     "execution_count": 32,
     "metadata": {},
     "output_type": "execute_result"
    }
   ],
   "source": [
    "#Вариант 1\n",
    "mongen = data.copy()\n",
    "mongen.profit = mongen['profit'] > 0\n",
    "mongen.genres = mongen.genres.str.split('|')\n",
    "pd.Series((mongen.genres).sum()).value_counts().index[0]"
   ]
  },
  {
   "cell_type": "code",
   "execution_count": 33,
   "metadata": {},
   "outputs": [
    {
     "data": {
      "text/plain": [
       "'Drama'"
      ]
     },
     "execution_count": 33,
     "metadata": {},
     "output_type": "execute_result"
    }
   ],
   "source": [
    "#Вариант 2\n",
    "mongen2 = data[data['profit'] > 0]\n",
    "pd.Series((mongen2.genres.str.split('|').sum())).value_counts().index[0]"
   ]
  },
  {
   "cell_type": "code",
   "execution_count": 34,
   "metadata": {},
   "outputs": [
    {
     "data": {
      "text/plain": [
       "'Drama'"
      ]
     },
     "execution_count": 34,
     "metadata": {},
     "output_type": "execute_result"
    }
   ],
   "source": [
    "#Вариант 3\n",
    "mongen3 = data.query('profit>0').copy()\n",
    "mongen3['genres'] = mongen3.genres.str.split('|')\n",
    "mongen3 = mongen3.explode('genres')\n",
    "money = mongen3.genres.value_counts().idxmax()\n",
    "money"
   ]
  },
  {
   "cell_type": "markdown",
   "metadata": {
    "colab_type": "text",
    "id": "0F23bgsDVp_U"
   },
   "source": [
    "# 13. У какого режиссера самые большие суммарные кассовые сборы?"
   ]
  },
  {
   "cell_type": "code",
   "execution_count": 35,
   "metadata": {
    "colab": {},
    "colab_type": "code",
    "id": "K6Z3J8ygVp_X"
   },
   "outputs": [],
   "source": [
    "answers['13'] = 'Peter Jackson'"
   ]
  },
  {
   "cell_type": "code",
   "execution_count": 36,
   "metadata": {},
   "outputs": [
    {
     "data": {
      "text/plain": [
       "'Peter Jackson'"
      ]
     },
     "execution_count": 36,
     "metadata": {},
     "output_type": "execute_result"
    }
   ],
   "source": [
    "data13 = data.copy()\n",
    "data13['director'] = data13.director.str.split('|')\n",
    "data13 = data13.explode('director')\n",
    "\n",
    "data13 = data13.groupby('director')[['revenue']].sum()\n",
    "name = data13.revenue.idxmax()\n",
    "name"
   ]
  },
  {
   "cell_type": "markdown",
   "metadata": {
    "colab_type": "text",
    "id": "PsYC9FgRVp_a"
   },
   "source": [
    "# 14. Какой режисер снял больше всего фильмов в стиле Action?"
   ]
  },
  {
   "cell_type": "code",
   "execution_count": 37,
   "metadata": {},
   "outputs": [],
   "source": [
    "answers['14'] = 'Robert Rodriguez'"
   ]
  },
  {
   "cell_type": "code",
   "execution_count": 38,
   "metadata": {},
   "outputs": [
    {
     "data": {
      "text/plain": [
       "Robert Rodriguez       9\n",
       "Paul W.S. Anderson     7\n",
       "Michael Bay            7\n",
       "Ridley Scott           6\n",
       "Antoine Fuqua          6\n",
       "                      ..\n",
       "Julie Anne Robinson    1\n",
       "Rob Pritts             1\n",
       "Spike Lee              1\n",
       "David Leland           1\n",
       "Tamra Davis            1\n",
       "Name: director, Length: 364, dtype: int64"
      ]
     },
     "execution_count": 38,
     "metadata": {},
     "output_type": "execute_result"
    }
   ],
   "source": [
    "dir_action = data[data.genres.str.contains('Action')].copy()\n",
    "dir_action.director = dir_action.director.str.split('|')\n",
    "dir_action = dir_action.explode('director')\n",
    "dir_action = dir_action.director.value_counts()\n",
    "dir_action"
   ]
  },
  {
   "cell_type": "markdown",
   "metadata": {
    "colab_type": "text",
    "id": "PQ0KciD7Vp_f"
   },
   "source": [
    "# 15. Фильмы с каким актером принесли самые высокие кассовые сборы в 2012 году? "
   ]
  },
  {
   "cell_type": "code",
   "execution_count": 39,
   "metadata": {
    "colab": {},
    "colab_type": "code",
    "id": "aga62oeKVp_g"
   },
   "outputs": [],
   "source": [
    "answers['15'] = 'Chris Hemsworth'"
   ]
  },
  {
   "cell_type": "code",
   "execution_count": 40,
   "metadata": {},
   "outputs": [
    {
     "data": {
      "text/plain": [
       "'Chris Hemsworth'"
      ]
     },
     "execution_count": 40,
     "metadata": {},
     "output_type": "execute_result"
    }
   ],
   "source": [
    "data15 = data.query('release_year == 2012').copy()\n",
    "data15['cast'] = data15.cast.str.split('|')\n",
    "data15 = data15.explode('cast')\n",
    "\n",
    "data15 = data15.groupby('cast')[['revenue']].sum()\n",
    "name = data15.revenue.idxmax()\n",
    "name"
   ]
  },
  {
   "cell_type": "markdown",
   "metadata": {
    "colab_type": "text",
    "id": "mWHyyL7QVp_j"
   },
   "source": [
    "# 16. Какой актер снялся в большем количестве высокобюджетных фильмов?"
   ]
  },
  {
   "cell_type": "code",
   "execution_count": 41,
   "metadata": {
    "colab": {},
    "colab_type": "code",
    "id": "qQtmHKTFVp_k"
   },
   "outputs": [],
   "source": [
    "answers['16'] = 'Matt Damon'"
   ]
  },
  {
   "cell_type": "code",
   "execution_count": 42,
   "metadata": {},
   "outputs": [
    {
     "data": {
      "text/plain": [
       "Matt Damon          18\n",
       "Adam Sandler        17\n",
       "Angelina Jolie      16\n",
       "Tom Cruise          15\n",
       "Eddie Murphy        15\n",
       "                    ..\n",
       "Willow Smith         1\n",
       "Geoff Pierson        1\n",
       "David Hasselhoff     1\n",
       "Leehom Wang          1\n",
       "Clint Eastwood       1\n",
       "Name: cast, Length: 1505, dtype: int64"
      ]
     },
     "execution_count": 42,
     "metadata": {},
     "output_type": "execute_result"
    }
   ],
   "source": [
    "data16 = data[data.budget > data.budget.mean()].copy()\n",
    "data16['cast'] = data16.cast.str.split('|')\n",
    "data16 = data16.explode('cast')\n",
    "\n",
    "data16 = data16.cast.value_counts()\n",
    "data16"
   ]
  },
  {
   "cell_type": "code",
   "execution_count": 43,
   "metadata": {},
   "outputs": [
    {
     "data": {
      "text/plain": [
       "'Matt Damon'"
      ]
     },
     "execution_count": 43,
     "metadata": {},
     "output_type": "execute_result"
    }
   ],
   "source": [
    "data16.idxmax()"
   ]
  },
  {
   "cell_type": "markdown",
   "metadata": {
    "colab_type": "text",
    "id": "NIh6AaW5Vp_n"
   },
   "source": [
    "# 17. В фильмах какого жанра больше всего снимался Nicolas Cage? "
   ]
  },
  {
   "cell_type": "code",
   "execution_count": 44,
   "metadata": {
    "colab": {},
    "colab_type": "code",
    "id": "H74SJDIBVp_n"
   },
   "outputs": [],
   "source": [
    "answers['17'] = 'Action'"
   ]
  },
  {
   "cell_type": "code",
   "execution_count": 45,
   "metadata": {},
   "outputs": [
    {
     "data": {
      "text/plain": [
       "[('Action', 17)]"
      ]
     },
     "execution_count": 45,
     "metadata": {},
     "output_type": "execute_result"
    }
   ],
   "source": [
    "#Вариант 1\n",
    "Counter(data[data.cast.str.contains('Nicolas Cage')].genres.str.split('|').sum()).most_common(1)"
   ]
  },
  {
   "cell_type": "code",
   "execution_count": 46,
   "metadata": {},
   "outputs": [
    {
     "name": "stdout",
     "output_type": "stream",
     "text": [
      "Nicolas Cage больше всего (17 раз) снялся в фильмах жанра \"Action\".\n"
     ]
    }
   ],
   "source": [
    "#Вариант 2\n",
    "data17 = data.copy()\n",
    "data17 = data17[data17.cast.str.contains('Nicolas Cage')].genres.str.split('|').explode()\n",
    "# Ответ в текстовой форме:\n",
    "num, genre = data17.value_counts().max(), data17.value_counts().idxmax()\n",
    "print(f'Nicolas Cage больше всего ({num} раз) снялся в фильмах жанра \"{genre}\".')"
   ]
  },
  {
   "cell_type": "markdown",
   "metadata": {
    "colab_type": "text",
    "id": "RqOmPRfWVp_q"
   },
   "source": [
    "# 18. Самый убыточный фильм от Paramount Pictures"
   ]
  },
  {
   "cell_type": "code",
   "execution_count": 47,
   "metadata": {
    "colab": {},
    "colab_type": "code",
    "id": "9E_B0Y96Vp_r"
   },
   "outputs": [],
   "source": [
    "answers['18'] = 'K-19: The Widowmaker'"
   ]
  },
  {
   "cell_type": "code",
   "execution_count": 48,
   "metadata": {},
   "outputs": [
    {
     "data": {
      "text/plain": [
       "'K-19: The Widowmaker'"
      ]
     },
     "execution_count": 48,
     "metadata": {},
     "output_type": "execute_result"
    }
   ],
   "source": [
    "data18 = data.copy()\n",
    "data18 = data18[data18.production_companies.str.contains('Paramount Pictures')]\n",
    "\n",
    "worst = data18.profit.idxmin()\n",
    "worst = data18.loc[worst, 'original_title']\n",
    "worst"
   ]
  },
  {
   "cell_type": "markdown",
   "metadata": {
    "colab_type": "text",
    "id": "vS8Ur6ddVp_u"
   },
   "source": [
    "# 19. Какой год стал самым успешным по суммарным кассовым сборам?"
   ]
  },
  {
   "cell_type": "code",
   "execution_count": 49,
   "metadata": {
    "colab": {},
    "colab_type": "code",
    "id": "Dnbt4GdIVp_v"
   },
   "outputs": [],
   "source": [
    "answers['19'] = '2015'"
   ]
  },
  {
   "cell_type": "code",
   "execution_count": 50,
   "metadata": {},
   "outputs": [
    {
     "data": {
      "text/plain": [
       "2015"
      ]
     },
     "execution_count": 50,
     "metadata": {},
     "output_type": "execute_result"
    }
   ],
   "source": [
    "data19 = data.copy()\n",
    "data19 = data19.groupby('release_year')[['profit']].sum()\n",
    "best = data19.profit.idxmax()\n",
    "best"
   ]
  },
  {
   "cell_type": "markdown",
   "metadata": {
    "colab_type": "text",
    "id": "JAzJh4QAVp_z"
   },
   "source": [
    "# 20. Какой самый прибыльный год для студии Warner Bros?"
   ]
  },
  {
   "cell_type": "code",
   "execution_count": 51,
   "metadata": {
    "colab": {},
    "colab_type": "code",
    "id": "wgVu02DEVp_0"
   },
   "outputs": [],
   "source": [
    "answers['20'] = '2014'"
   ]
  },
  {
   "cell_type": "code",
   "execution_count": 52,
   "metadata": {},
   "outputs": [
    {
     "data": {
      "text/plain": [
       "2014"
      ]
     },
     "execution_count": 52,
     "metadata": {},
     "output_type": "execute_result"
    }
   ],
   "source": [
    "data20 = data.copy()\n",
    "data20 = data20[data20.production_companies.str.contains('Warner Bros')]\n",
    "data20 = data20.groupby('release_year')[['profit']].sum()\n",
    "bestwb = data20.profit.idxmax()\n",
    "bestwb"
   ]
  },
  {
   "cell_type": "markdown",
   "metadata": {
    "colab_type": "text",
    "id": "8Im1S2HRVp_4"
   },
   "source": [
    "# 21. В каком месяце за все годы суммарно вышло больше всего фильмов?"
   ]
  },
  {
   "cell_type": "code",
   "execution_count": 53,
   "metadata": {
    "colab": {},
    "colab_type": "code",
    "id": "lev6TH7gVp_4"
   },
   "outputs": [],
   "source": [
    "answers['21'] = 'Сентябрь'"
   ]
  },
  {
   "cell_type": "code",
   "execution_count": 54,
   "metadata": {},
   "outputs": [
    {
     "data": {
      "text/plain": [
       "9     227\n",
       "12    190\n",
       "10    186\n",
       "8     161\n",
       "3     156\n",
       "4     149\n",
       "6     147\n",
       "11    146\n",
       "7     142\n",
       "5     140\n",
       "2     135\n",
       "1     110\n",
       "Name: release_date, dtype: int64"
      ]
     },
     "execution_count": 54,
     "metadata": {},
     "output_type": "execute_result"
    }
   ],
   "source": [
    "data21 = data.copy()\n",
    "data21.release_date = pd.to_datetime(data21['release_date'])\n",
    "data21.release_date = data21['release_date'].dt.month\n",
    "data21.release_date.value_counts(0)"
   ]
  },
  {
   "cell_type": "markdown",
   "metadata": {
    "colab_type": "text",
    "id": "uAJsZ_NeVp_7"
   },
   "source": [
    "# 22. Сколько суммарно вышло фильмов летом? (за июнь, июль, август)"
   ]
  },
  {
   "cell_type": "code",
   "execution_count": 55,
   "metadata": {
    "colab": {},
    "colab_type": "code",
    "id": "Aa-hEREoVp_8"
   },
   "outputs": [],
   "source": [
    "answers['22'] = '450'"
   ]
  },
  {
   "cell_type": "code",
   "execution_count": 56,
   "metadata": {},
   "outputs": [
    {
     "data": {
      "text/plain": [
       "450"
      ]
     },
     "execution_count": 56,
     "metadata": {},
     "output_type": "execute_result"
    }
   ],
   "source": [
    "data22 = data.copy()\n",
    "data22.release_date = pd.to_datetime(data22['release_date'])\n",
    "len(data[data22.release_date.dt.month.isin([6,7,8])])"
   ]
  },
  {
   "cell_type": "markdown",
   "metadata": {
    "colab_type": "text",
    "id": "G94ppOY1VqAA"
   },
   "source": [
    "# 23. Для какого режиссера зима – самое продуктивное время года? "
   ]
  },
  {
   "cell_type": "code",
   "execution_count": 57,
   "metadata": {
    "colab": {},
    "colab_type": "code",
    "id": "RhNTsamuVqAB"
   },
   "outputs": [],
   "source": [
    "answers['23'] = 'Peter Jackson'"
   ]
  },
  {
   "cell_type": "code",
   "execution_count": 58,
   "metadata": {},
   "outputs": [
    {
     "data": {
      "text/plain": [
       "Peter Jackson          7\n",
       "Steven Soderbergh      6\n",
       "Clint Eastwood         6\n",
       "Adam Shankman          4\n",
       "Martin Scorsese        4\n",
       "                      ..\n",
       "Josh Trank             1\n",
       "Sergey Bodrov          1\n",
       "Sara Sugarman          1\n",
       "Jay Russell            1\n",
       "Demian Lichtenstein    1\n",
       "Name: director, Length: 358, dtype: int64"
      ]
     },
     "execution_count": 58,
     "metadata": {},
     "output_type": "execute_result"
    }
   ],
   "source": [
    "data23 = data.copy()\n",
    "data23.director = data23.director.str.split('|')\n",
    "data23 = data23.explode('director')\n",
    "data23.release_date = pd.to_datetime(data23['release_date'])\n",
    "season = data23[data23.release_date.dt.month.isin([12,1,2])]\n",
    "season = season.director.value_counts()\n",
    "season"
   ]
  },
  {
   "cell_type": "markdown",
   "metadata": {
    "colab_type": "text",
    "id": "RBo0JVjVVqAF"
   },
   "source": [
    "# 24. Какая студия дает самые длинные названия своим фильмам по количеству символов?"
   ]
  },
  {
   "cell_type": "code",
   "execution_count": 59,
   "metadata": {
    "colab": {},
    "colab_type": "code",
    "id": "QRGS8L0iVqAG"
   },
   "outputs": [],
   "source": [
    "answers['24'] = 'Four By Two Productions'"
   ]
  },
  {
   "cell_type": "code",
   "execution_count": 60,
   "metadata": {},
   "outputs": [
    {
     "data": {
      "text/plain": [
       "'Four By Two Productions'"
      ]
     },
     "execution_count": 60,
     "metadata": {},
     "output_type": "execute_result"
    }
   ],
   "source": [
    "data24 = data.copy()\n",
    "data24.production_companies = data24.production_companies.str.split('|')\n",
    "data24 = data24.explode('production_companies')\n",
    "data24['lenfilm'] = data24['original_title'].astype(str).apply(len)\n",
    "data24 = data24.groupby('production_companies')[['lenfilm']].mean()\n",
    "long = data24['lenfilm'].idxmax()\n",
    "long"
   ]
  },
  {
   "cell_type": "markdown",
   "metadata": {
    "colab_type": "text",
    "id": "9G0hbvR7VqAK"
   },
   "source": [
    "# 25. Описание фильмов какой студии в среднем самые длинные по количеству слов?"
   ]
  },
  {
   "cell_type": "code",
   "execution_count": 61,
   "metadata": {
    "colab": {},
    "colab_type": "code",
    "id": "Ge2GsLNxVqAK"
   },
   "outputs": [],
   "source": [
    "answers['25'] = 'Midnight Picture Show'"
   ]
  },
  {
   "cell_type": "code",
   "execution_count": 62,
   "metadata": {},
   "outputs": [
    {
     "data": {
      "text/plain": [
       "'Midnight Picture Show'"
      ]
     },
     "execution_count": 62,
     "metadata": {},
     "output_type": "execute_result"
    }
   ],
   "source": [
    "data25 = data.copy()\n",
    "data25.production_companies = data25.production_companies.str.split('|')\n",
    "data25 = data25.explode('production_companies')\n",
    "data25['filmover'] = data25['overview'].astype(str).apply(len)\n",
    "data25 = data25.groupby('production_companies')[['filmover']].mean()\n",
    "long = data25['filmover'].idxmax()\n",
    "long"
   ]
  },
  {
   "cell_type": "markdown",
   "metadata": {
    "colab_type": "text",
    "id": "FJ1AFt90VqAP"
   },
   "source": [
    "# 26. Какие фильмы входят в 1 процент лучших по рейтингу?"
   ]
  },
  {
   "cell_type": "code",
   "execution_count": 63,
   "metadata": {
    "colab": {},
    "colab_type": "code",
    "id": "8qmJVq4CVqAQ"
   },
   "outputs": [],
   "source": [
    "answers['26'] = 'Inside Out, The Dark Knight, 12 Years a Slave'"
   ]
  },
  {
   "cell_type": "code",
   "execution_count": 64,
   "metadata": {},
   "outputs": [
    {
     "data": {
      "text/html": [
       "<div>\n",
       "<style scoped>\n",
       "    .dataframe tbody tr th:only-of-type {\n",
       "        vertical-align: middle;\n",
       "    }\n",
       "\n",
       "    .dataframe tbody tr th {\n",
       "        vertical-align: top;\n",
       "    }\n",
       "\n",
       "    .dataframe thead th {\n",
       "        text-align: right;\n",
       "    }\n",
       "</style>\n",
       "<table border=\"1\" class=\"dataframe\">\n",
       "  <thead>\n",
       "    <tr style=\"text-align: right;\">\n",
       "      <th></th>\n",
       "      <th>vote_average</th>\n",
       "      <th>original_title</th>\n",
       "    </tr>\n",
       "  </thead>\n",
       "  <tbody>\n",
       "    <tr>\n",
       "      <th>599</th>\n",
       "      <td>8.1</td>\n",
       "      <td>The Dark Knight</td>\n",
       "    </tr>\n",
       "    <tr>\n",
       "      <th>9</th>\n",
       "      <td>8.0</td>\n",
       "      <td>Inside Out</td>\n",
       "    </tr>\n",
       "    <tr>\n",
       "      <th>34</th>\n",
       "      <td>8.0</td>\n",
       "      <td>Room</td>\n",
       "    </tr>\n",
       "    <tr>\n",
       "      <th>118</th>\n",
       "      <td>8.0</td>\n",
       "      <td>Interstellar</td>\n",
       "    </tr>\n",
       "    <tr>\n",
       "      <th>125</th>\n",
       "      <td>8.0</td>\n",
       "      <td>The Imitation Game</td>\n",
       "    </tr>\n",
       "    <tr>\n",
       "      <th>370</th>\n",
       "      <td>7.9</td>\n",
       "      <td>Inception</td>\n",
       "    </tr>\n",
       "    <tr>\n",
       "      <th>1191</th>\n",
       "      <td>7.9</td>\n",
       "      <td>12 Years a Slave</td>\n",
       "    </tr>\n",
       "    <tr>\n",
       "      <th>1183</th>\n",
       "      <td>7.9</td>\n",
       "      <td>The Wolf of Wall Street</td>\n",
       "    </tr>\n",
       "    <tr>\n",
       "      <th>1081</th>\n",
       "      <td>7.9</td>\n",
       "      <td>The Lord of the Rings: The Return of the King</td>\n",
       "    </tr>\n",
       "    <tr>\n",
       "      <th>872</th>\n",
       "      <td>7.9</td>\n",
       "      <td>The Pianist</td>\n",
       "    </tr>\n",
       "  </tbody>\n",
       "</table>\n",
       "</div>"
      ],
      "text/plain": [
       "      vote_average                                 original_title\n",
       "599            8.1                                The Dark Knight\n",
       "9              8.0                                     Inside Out\n",
       "34             8.0                                           Room\n",
       "118            8.0                                   Interstellar\n",
       "125            8.0                             The Imitation Game\n",
       "370            7.9                                      Inception\n",
       "1191           7.9                               12 Years a Slave\n",
       "1183           7.9                        The Wolf of Wall Street\n",
       "1081           7.9  The Lord of the Rings: The Return of the King\n",
       "872            7.9                                    The Pianist"
      ]
     },
     "execution_count": 64,
     "metadata": {},
     "output_type": "execute_result"
    }
   ],
   "source": [
    "data26 = data.copy()\n",
    "# Используем функцию вычисления квартиля уровня 0.99\n",
    "best_1 = np.percentile(data26.vote_average, 99)\n",
    "data26 = data26[data26.vote_average >= best_1].sort_values(by='vote_average', ascending=False)\n",
    "\n",
    "data26[['vote_average', 'original_title']].head(10)"
   ]
  },
  {
   "cell_type": "markdown",
   "metadata": {
    "colab_type": "text",
    "id": "MdXsUXbCVqAV"
   },
   "source": [
    "# 27. Какие актеры чаще всего снимаются в одном фильме вместе?\n"
   ]
  },
  {
   "cell_type": "code",
   "execution_count": 65,
   "metadata": {},
   "outputs": [],
   "source": [
    "answers['27'] = 'Daniel Radcliffe & Rupert Grint'"
   ]
  },
  {
   "cell_type": "code",
   "execution_count": 66,
   "metadata": {},
   "outputs": [
    {
     "data": {
      "text/plain": [
       "(Daniel Radcliffe, Rupert Grint)         8\n",
       "(Daniel Radcliffe, Emma Watson)          8\n",
       "(Rupert Grint, Emma Watson)              7\n",
       "(Ben Stiller, Owen Wilson)               6\n",
       "(Johnny Depp, Helena Bonham Carter)      6\n",
       "                                        ..\n",
       "(Bruce Greenwood, Jason Biggs)           1\n",
       "(Claire Forlani, Jason Biggs)            1\n",
       "(Sienna Guillory, Andy Serkis)           1\n",
       "(Kris Kristofferson, Dominic Purcell)    1\n",
       "(Ben Burtt, Elissa Knight)               1\n",
       "Name: cast, Length: 18121, dtype: int64"
      ]
     },
     "execution_count": 66,
     "metadata": {},
     "output_type": "execute_result"
    }
   ],
   "source": [
    "data27 = data.copy()\n",
    "data27['cast'] = data27.cast.str.split('|').apply(lambda x: list(itertools.combinations(x, 2)))\n",
    "pair = data27.explode('cast')\n",
    "pair.cast.value_counts()"
   ]
  },
  {
   "cell_type": "markdown",
   "metadata": {
    "colab_type": "text",
    "id": "U0nONFnGVqAX"
   },
   "source": [
    "# Submission"
   ]
  },
  {
   "cell_type": "code",
   "execution_count": 67,
   "metadata": {
    "colab": {},
    "colab_type": "code",
    "id": "uCfuTkRbVqAg"
   },
   "outputs": [
    {
     "data": {
      "text/plain": [
       "{'1': '723. Pirates of the Caribbean: On Stranger Tides (tt1298650)',\n",
       " '2': '1157. Gods and Generals (tt0279111)',\n",
       " '3': '768. Winnie the Pooh (tt1449283)',\n",
       " '4': '110',\n",
       " '5': '107',\n",
       " '6': '239. Avatar (tt0499549)',\n",
       " '7': '1245. The Lone Ranger (tt1210819)',\n",
       " '8': '1478',\n",
       " '9': '599. The Dark Knight (tt0468569)',\n",
       " '10': '1245. The Lone Ranger (tt1210819)',\n",
       " '11': 'Drama',\n",
       " '12': 'Drama',\n",
       " '13': 'Peter Jackson',\n",
       " '14': 'Robert Rodriguez',\n",
       " '15': 'Chris Hemsworth',\n",
       " '16': 'Matt Damon',\n",
       " '17': 'Action',\n",
       " '18': 'K-19: The Widowmaker',\n",
       " '19': '2015',\n",
       " '20': '2014',\n",
       " '21': 'Сентябрь',\n",
       " '22': '450',\n",
       " '23': 'Peter Jackson',\n",
       " '24': 'Four By Two Productions',\n",
       " '25': 'Midnight Picture Show',\n",
       " '26': 'Inside Out, The Dark Knight, 12 Years a Slave',\n",
       " '27': 'Daniel Radcliffe & Rupert Grint'}"
      ]
     },
     "execution_count": 67,
     "metadata": {},
     "output_type": "execute_result"
    }
   ],
   "source": [
    "answers"
   ]
  },
  {
   "cell_type": "code",
   "execution_count": 68,
   "metadata": {
    "colab": {},
    "colab_type": "code",
    "id": "Vwx3NrkSVqAl"
   },
   "outputs": [
    {
     "data": {
      "text/plain": [
       "27"
      ]
     },
     "execution_count": 68,
     "metadata": {},
     "output_type": "execute_result"
    }
   ],
   "source": [
    "len(answers)"
   ]
  },
  {
   "cell_type": "code",
   "execution_count": null,
   "metadata": {},
   "outputs": [],
   "source": []
  }
 ],
 "metadata": {
  "colab": {
   "name": "Copy of [SF-DST] Movies IMBD v4.1 TEMPLATE.ipynb",
   "provenance": []
  },
  "kernelspec": {
   "display_name": "Python 3",
   "language": "python",
   "name": "python3"
  },
  "language_info": {
   "codemirror_mode": {
    "name": "ipython",
    "version": 3
   },
   "file_extension": ".py",
   "mimetype": "text/x-python",
   "name": "python",
   "nbconvert_exporter": "python",
   "pygments_lexer": "ipython3",
   "version": "3.8.3"
  }
 },
 "nbformat": 4,
 "nbformat_minor": 1
}
